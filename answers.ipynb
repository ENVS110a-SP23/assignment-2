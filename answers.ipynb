{
 "cells": [
  {
   "cell_type": "markdown",
   "metadata": {},
   "source": [
    "# Assignment 2: Fundamentals of Python (30 pts)"
   ]
  },
  {
   "cell_type": "markdown",
   "metadata": {},
   "source": [
    "## Question 1: Markdown  (5 pts)\n",
    "\n",
    "Create a markdown cell below. Do the following tasks: \n",
    "\n",
    "- Display an image. (1 pt)\n",
    "- Write a caption for the image in italics. (1 pt)\n",
    "- Link a wikipedia page. (1 pt)\n",
    "- Write a bullet point list summarizing the page (don't be thorough, just want to see you make bullet points.) (1 pt)\n",
    "- Write an equation on its own line that includes a fraction and an exponent (e.g. 2 squared).\n"
   ]
  },
  {
   "attachments": {},
   "cell_type": "markdown",
   "metadata": {},
   "source": [
    "![This is an image of a sunset in Thailand](/Users/iannag/Downloads/sunset_thailand.jpeg \"This is an image of a sunset in Thailand\")  \n",
    "*This photo was taken while the sun was setting in the country of Thailand*  \n",
    "[More information about sunsets](https://en.wikipedia.org/wiki/Sunset)  \n",
    " - Due to Earth's rotation, the sun sets each day\n",
    " - the sun does not set at the same exact time every day  \n",
    "\n",
    "$\\sum \\limits _{j=1} ^{n} j^2 = \\frac{n(n+1)(2n+1)}{6} $"
   ]
  },
  {
   "cell_type": "markdown",
   "metadata": {},
   "source": [
    "## Question 2: Data types and variables (5 pt)\n",
    "\n",
    "\n",
    "- Create 3 variables with the values of `9`, `9.9`, and `\"9\"` (1 pt).\n",
    "- Print out the data types of each variable (1 pt).\n",
    "- Convert the 3 variable types to the same data type and then add them together to get the following values:\n",
    "  - `27` (1 pt)\n",
    "  - `27.9` (1 pt)\n",
    "  - `999.9` (1 pt)\n"
   ]
  },
  {
   "cell_type": "code",
   "execution_count": 1,
   "metadata": {},
   "outputs": [
    {
     "name": "stdout",
     "output_type": "stream",
     "text": [
      "9 is of type  <class 'int'>\n",
      "9.9 is of type  <class 'float'>\n",
      "9 is of type  <class 'str'>\n",
      "27\n",
      "27.9\n",
      "999.9\n"
     ]
    }
   ],
   "source": [
    "# your answer here:\n",
    "n_num = 9\n",
    "n_float = 9.9\n",
    "n_string = \"9\"\n",
    "\n",
    "print(n_num, \"is of type \", type(n_num))\n",
    "print(n_float, \"is of type \", type(n_float))\n",
    "print(n_string, \"is of type \", type(n_string))\n",
    "\n",
    "print(int(n_string) + int(n_float) + int(n_num))\n",
    "print(float(n_string) + n_float + float(n_num))\n",
    "print( str(n_string) +str(n_num) + str(n_float))"
   ]
  },
  {
   "cell_type": "markdown",
   "metadata": {},
   "source": [
    "## Question 3: Data structures (5 pt)\n",
    "\n",
    "- Create a dictionary with 3 keys called `'a'`, `'b'`, and `'c'`. The value for each key should be a blank list. (1 pt)\n",
    "- Append the list associated with key `a` with a blank set. (1 pt)\n",
    "- Append the list associated with key `b` with any 4 numbers. (1 pt)\n",
    "- Change the third item in the list associated with key `b` to be `1000`. (1 pt)\n",
    "- Print out the dictionary (1 pt)"
   ]
  },
  {
   "cell_type": "code",
   "execution_count": 5,
   "metadata": {},
   "outputs": [
    {
     "name": "stdout",
     "output_type": "stream",
     "text": [
      "{'a': [], 'b': [], 'c': []}\n",
      "{'a': set(), 'b': [34, 109, 1000, 22], 'c': []}\n"
     ]
    }
   ],
   "source": [
    "# your code here:\n",
    "\n",
    "my_dict = {\n",
    "    'a': [], \n",
    "    'b': [], \n",
    "    'c': []\n",
    "    }\n",
    "\n",
    "print(my_dict)\n",
    "\n",
    "my_set = set()\n",
    "my_list = [34,109,129,22]\n",
    "my_dict['a'] = my_set\n",
    "my_dict['b'] = my_list\n",
    "\n",
    "my_list[2] = 1000\n",
    "\n",
    "print(my_dict)"
   ]
  },
  {
   "cell_type": "markdown",
   "metadata": {},
   "source": [
    "## Question 4: Transferring to different structure (5 pts)\n",
    "\n",
    "Some data was collected by 5 different researchers on deer population sizes. Below, this data was recorded with accompanying temperature data and dates in three lists. In each list, one researcher is associated with the same index.\n",
    "\n",
    "0. Haley McCann\n",
    "1. Siena Welch\n",
    "2. Jaylin Mercado\n",
    "3. Ismael Hayden\n",
    "4. Nina Bright\n",
    "\n",
    "Use the data across the three lists to create a dictionary storing each researcher's name and data as key:value pairs. Carefully consider how to best store the data as each value (4 pt).\n",
    "\n",
    "Retrieve the data from the lists using indexing; **do NOT** manually type the data into the dictionary. (1 pt)"
   ]
  },
  {
   "cell_type": "code",
   "execution_count": 35,
   "metadata": {},
   "outputs": [
    {
     "name": "stdout",
     "output_type": "stream",
     "text": [
      "this is the info {'Haley McCann': ['5/25/2022', 29.75, 442], 'Siena Welch': ['3/18/2022', 12.63, 336], 'Jaylin Mercado': ['6/28/2022', 31.58, 505], 'Ismael Hayden': ['11/11/2022', 7.16, 913], 'Nina Bright': ['7/6/2023', 32.51, 933]}\n"
     ]
    }
   ],
   "source": [
    "# don't modify the lists\n",
    "\n",
    "temperatures = [29.75, 12.63, 31.58, 7.16, 32.51]\n",
    "\n",
    "populations = [442, 336, 505, 913, 933]\n",
    "\n",
    "dates = ['5/25/2022','3/18/2022','6/28/2022','11/11/2022','7/6/2023']\n",
    "\n",
    "# your code below:\n",
    "\n",
    "researcher_name = [\"Haley McCann\",\"Siena Welch\", \"Jaylin Mercado\", \"Ismael Hayden\", \"Nina Bright\"]\n",
    "associated_data = []\n",
    "i = 0\n",
    "researcher_info = {}\n",
    "\n",
    "for name in researcher_name:\n",
    "    \n",
    "    associated_data.append(dates[i])\n",
    "    associated_data.append(temperatures[i])\n",
    "    associated_data.append(populations[i])\n",
    "    researcher_info[name] = associated_data \n",
    "    i+=1\n",
    "        \n",
    "    associated_data = []\n",
    "print(\"this is the info\", researcher_info)"
   ]
  },
  {
   "cell_type": "markdown",
   "metadata": {},
   "source": [
    "## Question 5: Booleans\n",
    "What is the value of each of the following statements? Explain why for each statement. (1 pt each)"
   ]
  },
  {
   "cell_type": "code",
   "execution_count": 44,
   "metadata": {},
   "outputs": [
    {
     "data": {
      "text/plain": [
       "0"
      ]
     },
     "execution_count": 44,
     "metadata": {},
     "output_type": "execute_result"
    }
   ],
   "source": [
    "\n"
   ]
  },
  {
   "cell_type": "code",
   "execution_count": 7,
   "metadata": {},
   "outputs": [
    {
     "data": {
      "text/plain": [
       "1"
      ]
     },
     "execution_count": 7,
     "metadata": {},
     "output_type": "execute_result"
    }
   ],
   "source": [
    "# 1\n",
    "True and False\n",
    "\n",
    "# 2\n",
    "not True or False\n",
    "\n",
    "# 3\n",
    "True or False or True\n",
    "\n",
    "# 4\n",
    "not (not True or not False)\n",
    "\n",
    "# 5\n",
    "int( not(10 > 5 and 2 < 3) )\n",
    "\n"
   ]
  },
  {
   "attachments": {},
   "cell_type": "markdown",
   "metadata": {},
   "source": [
    "1. This is equal to false. A stament that is true plus a statement that is false cancels out to false so the enture statement is false\n",
    "2. This is equal to false. Both items are false because something that is not true is false and something that is false is false. therefore, the answer will be false\n",
    "3. this is equal to True. The or signifies that if one of the items are true then the entire statement is true. In this case, there are two true values and therefore the final answer will be true\n",
    "4. This is equal to False. When there are parentheses, the contents get evaluated first. In this case the first content is not true which means false and the second case says not false which is true. A statememnt that says true or false is equal to true because one of the statements are true. Outside of the parenthesis it says not and therefore the not true becomes false.\n",
    "5. this is equal to the number 0. If we look at the inner parenthesis, both algebraic functions are true. Then the outer parenthesis says not so the  true statement becomes false. Ousdie of that parenthesis there is an int and the int of a false value is equal to 0. \n"
   ]
  },
  {
   "cell_type": "markdown",
   "metadata": {},
   "source": [
    "### Answers:"
   ]
  },
  {
   "attachments": {},
   "cell_type": "markdown",
   "metadata": {},
   "source": [
    "## Question 6: Conditionals (5 pt)\n",
    " \n",
    "The following converts Celsius (C) to Farhenheit (F):\n",
    "\n",
    "$$F = (C * \\frac{9}{5}) + 32 $$\n",
    "\n",
    "You can convert Celsius (C) to Kelvin with the following (K).\n",
    "\n",
    "$$K = C + 273.15$$\n",
    "\n",
    "The lowest possible value in Celsius is -273.13, also known as absolute zero.\n",
    "\n",
    "Create a variable called `cel` set to be some number. It represents temperature in degrees Celsius. (1 pt)\n",
    "\n",
    "Create another variable called `convert`. Make it have either the value `'far'` or `'kel'`. (1 pt)\n",
    "\n",
    "Write code that does the following:\n",
    "\n",
    "If `cel` is below absolute zero, print out an error. Otherwise, convert the value in `cel` to Farhenheit if `convert` is `'far'` and to Kelvin if `convert` is `'kel'`. In both cases, print out the converted value. If `convert` has any other value, print a warning message saying that `convert` is not `'kel'` or `'far'`. (3 pt)"
   ]
  },
  {
   "cell_type": "markdown",
   "metadata": {},
   "source": []
  },
  {
   "cell_type": "code",
   "execution_count": 46,
   "metadata": {},
   "outputs": [
    {
     "name": "stdout",
     "output_type": "stream",
     "text": [
      "316.15\n"
     ]
    }
   ],
   "source": [
    "# your code here:\n",
    "cel = 43\n",
    "convert = 'kel'\n",
    "\n",
    "if cel < -273.13:\n",
    "    print(\"there is an error\")\n",
    "elif convert == 'far':\n",
    "    far = (cel * (9/5)) + 32\n",
    "    print(far)\n",
    "elif convert == 'kel':\n",
    "    kel = cel + 273.15\n",
    "    print(kel)\n",
    "elif convert != ('kel' or 'far'):\n",
    "    print(\"warning, the convert variable should be equal to kel or far\")"
   ]
  }
 ],
 "metadata": {
  "kernelspec": {
   "display_name": "base",
   "language": "python",
   "name": "python3"
  },
  "language_info": {
   "codemirror_mode": {
    "name": "ipython",
    "version": 3
   },
   "file_extension": ".py",
   "mimetype": "text/x-python",
   "name": "python",
   "nbconvert_exporter": "python",
   "pygments_lexer": "ipython3",
   "version": "3.8.8"
  },
  "orig_nbformat": 4,
  "vscode": {
   "interpreter": {
    "hash": "f46ad2899105c514ae11021546ace5603d43af60f8a712185e614803a90cd8c1"
   }
  }
 },
 "nbformat": 4,
 "nbformat_minor": 2
}
