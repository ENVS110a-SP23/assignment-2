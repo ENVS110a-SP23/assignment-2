{
 "cells": [
  {
   "cell_type": "markdown",
   "metadata": {},
   "source": [
    "# Assignment 2: Fundamentals of Python (30 pts)"
   ]
  },
  {
   "cell_type": "markdown",
   "metadata": {},
   "source": [
    "## Question 1: Markdown  (5 pts)\n",
    "\n",
    "Create a markdown cell below. Do the following tasks: \n",
    "\n",
    "- Display an image. (1 pt)\n",
    "- Write a caption for the image in italics. (1 pt)\n",
    "- Link a wikipedia page. (1 pt)\n",
    "- Write a bullet point list summarizing the page (don't be thorough, just want to see you make bullet points.) (1 pt)\n",
    "- Write an equation on its own line that includes a fraction and an exponent (e.g. 2 squared).\n"
   ]
  },
  {
   "cell_type": "markdown",
   "metadata": {},
   "source": [
    "![Harvard SPH](https://i1.sndcdn.com/artworks-000123916337-ao7cej-t500x500.jpg)\n",
    "\n",
    "*My future grad school, Harvard T. H. Chan School of Public Health*\n",
    "\n",
    "[Harvard T. H. Chan School of Public Health](https://en.wikipedia.org/wiki/Harvard_T.H._Chan_School_of_Public_Health)\n",
    "\n",
    "- Harvard T. H. Chan SPH, the oldest graduate program in population health, has many accomplishments, including (but not limited to), inventing the iron lung, general-use cardiac defribrillator, and launching the \"Designated Driver\" campaign in the US.\n",
    "\n",
    "Equation that includes a fraction and an exponent:\n",
    "$$ \\frac{x}{y} = {z^2} + 4 $$"
   ]
  },
  {
   "cell_type": "markdown",
   "metadata": {},
   "source": [
    "## Question 2: Data types and variables (5 pt)\n",
    "\n",
    "\n",
    "- Create 3 variables with the values of `9`, `9.9`, and `\"9\"` (1 pt).\n",
    "- Print out the data types of each variable (1 pt).\n",
    "- Convert the 3 variable types to the same data type and then add them together to get the following values:\n",
    "  - `27` (1 pt)\n",
    "  - `27.9` (1 pt)\n",
    "  - `999.9` (1 pt)\n"
   ]
  },
  {
   "cell_type": "code",
   "execution_count": 14,
   "metadata": {},
   "outputs": [
    {
     "name": "stdout",
     "output_type": "stream",
     "text": [
      "9 9.9 9\n",
      "<class 'int'>\n",
      "<class 'float'>\n",
      "<class 'str'>\n",
      "27\n",
      "27.9\n",
      "999.9\n"
     ]
    }
   ],
   "source": [
    "x = 9\n",
    "y = 9.9\n",
    "z = \"9\"\n",
    "\n",
    "print(x, y, z)\n",
    "\n",
    "print(type(x))\n",
    "print(type(y))\n",
    "print(type(z))\n",
    "\n",
    "print(x + int(y) + int(z))\n",
    "print(float(x) + y + float(z))\n",
    "print(str(x) + z + str(y))"
   ]
  },
  {
   "cell_type": "markdown",
   "metadata": {},
   "source": [
    "## Question 3: Data structures (5 pt)\n",
    "\n",
    "- Create a dictionary with 3 keys called `'a'`, `'b'`, and `'c'`. The value for each key should be a blank list. (1 pt)\n",
    "- Append the list associated with key `a` with a blank set. (1 pt)\n",
    "- Append the list associated with key `b` with any 4 numbers. (1 pt)\n",
    "- Change the third item in the list associated with key `b` to be `1000`. (1 pt)\n",
    "- Print out the dictionary (1 pt)"
   ]
  },
  {
   "cell_type": "code",
   "execution_count": 60,
   "metadata": {},
   "outputs": [
    {
     "name": "stdout",
     "output_type": "stream",
     "text": [
      "{'a': [set()], 'b': [1, 2, 1000, 4], 'c': []}\n"
     ]
    }
   ],
   "source": [
    "dict = {'a': [], 'b': [], 'c': []}\n",
    "\n",
    "s = set()\n",
    "dict['a'].append(s)\n",
    "\n",
    "numlist = [1, 2, 3, 4]\n",
    "for num in numlist:\n",
    "    dict['b'].append(num)\n",
    "\n",
    "list = dict['b']\n",
    "list[2] = 1000\n",
    "\n",
    "print(dict)\n"
   ]
  },
  {
   "cell_type": "markdown",
   "metadata": {},
   "source": [
    "## Question 4: Transferring to different structure (5 pts)\n",
    "\n",
    "Some data was collected by 5 different researchers on deer population sizes. Below, this data was recorded with accompanying temperature data and dates in three lists. In each list, one researcher is associated with the same index.\n",
    "\n",
    "0. Haley McCann\n",
    "1. Siena Welch\n",
    "2. Jaylin Mercado\n",
    "3. Ismael Hayden\n",
    "4. Nina Bright\n",
    "\n",
    "Use the data across the three lists to create a dictionary storing each researcher's name and data as key:value pairs. Carefully consider how to best store the data as each value (4 pt).\n",
    "\n",
    "Retrieve the data from the lists using indexing; **do NOT** manually type the data into the dictionary. (1 pt)"
   ]
  },
  {
   "cell_type": "code",
   "execution_count": 87,
   "metadata": {},
   "outputs": [
    {
     "name": "stdout",
     "output_type": "stream",
     "text": [
      "{'Haley McCann': [29.75, 442, '5/25/2022'], 'Siena Welch': [12.63, 336, '3/18/2022'], 'Jaylin Mercado': [31.58, 505, '6/28/2022'], 'Ismael Hayden': [7.16, 913, '11/11/2022'], 'Nina Bright': [32.51, 933, '7/6/2023']}\n",
      "<class 'int'>\n"
     ]
    }
   ],
   "source": [
    "# don't modify the lists\n",
    "\n",
    "temperatures = [29.75, 12.63, 31.58, 7.16, 32.51]\n",
    "\n",
    "populations = [442, 336, 505, 913, 933]\n",
    "\n",
    "dates = ['5/25/2022','3/18/2022','6/28/2022','11/11/2022','7/6/2023']\n",
    "\n",
    "# my code starts now:\n",
    "\n",
    "names = ['Haley McCann', 'Siena Welch', 'Jaylin Mercado', 'Ismael Hayden', 'Nina Bright']\n",
    "\n",
    "diction = {names[0]: [], names[1]: [], names[2]: [], names[3]: [], names[4]: []}\n",
    "\n",
    "for x in range(5):\n",
    "    diction[r[x]] = [temperatures[x], populations[x], dates[x]]\n",
    "\n",
    "print(diction)\n",
    "\n",
    "print(type(diction[r[0]][1])) #checking correct variable data types "
   ]
  },
  {
   "cell_type": "markdown",
   "metadata": {},
   "source": [
    "## Question 5: Booleans\n",
    "What is the value of each of the following statements? Explain why for each statement. (1 pt each)"
   ]
  },
  {
   "cell_type": "code",
   "execution_count": 90,
   "metadata": {},
   "outputs": [
    {
     "data": {
      "text/plain": [
       "0"
      ]
     },
     "execution_count": 90,
     "metadata": {},
     "output_type": "execute_result"
    }
   ],
   "source": [
    "# 1\n",
    "True and False\n",
    "\n",
    "# 2\n",
    "not True or False\n",
    "\n",
    "# 3\n",
    "True or False or True\n",
    "\n",
    "# 4\n",
    "not (not True or not False)\n",
    "\n",
    "# 5\n",
    "int( not(10 > 5 and 2 < 3) )\n",
    "\n"
   ]
  },
  {
   "cell_type": "markdown",
   "metadata": {},
   "source": [
    "### Answers: \n",
    "\n",
    "1. This would be **False**, because the \"and\" operator evaluates both sides of the statement and the entire statement needs to be True in order to return True. \n",
    "2. This would be **False**, because the \"or\" operator evaluates the left expression first and then the right. Without the \"not\" operator, this statement would return True, as Python would end the logic there (short-circuit evaluation). Because of the \"not\" operator, it would instead return False.\n",
    "3. This would be **True**, because the \"or\" operator evaluates the left-side expression first, which is True, and then ends. Finally, as long as one of the expressions in an \"or\" statement is True, the statement will return True.\n",
    "4. This would be **False**, because the expression not True or not False is equivalent to False or True, which would return True. the outermost \"not\" operator would then return False for the entire statement.\n",
    "5. This would be **0**, because the first expression not(10 > 5 and 2 < 3) would return not(True) = False. True and False are boolean values, True corresponds with 1 and False corresponds with 0. Therefore, int(False) would return 0."
   ]
  },
  {
   "cell_type": "markdown",
   "metadata": {},
   "source": [
    "## Question 6: Conditionals (5 pt)\n",
    " \n",
    "The following converts Celsius (C) to Farhenheit (F):\n",
    "\n",
    "$$F = (C * \\frac{9}{5}) + 32 $$\n",
    "\n",
    "You can convert Celsius (C) to Kelvin with the following (K).\n",
    "\n",
    "$$K = C - 273.15$$\n",
    "\n",
    "The lowest possible value in Celsius is -273.13, also known as absolute zero.\n",
    "\n",
    "Create a variable called `cel` set to be some number. It represents temperature in degrees Celsius. (1 pt)\n",
    "\n",
    "Create another variable called `convert`. Make it have either the value `'far'` or `'kel'`. (1 pt)\n",
    "\n",
    "Write code that does the following:\n",
    "\n",
    "If `cel` is below absolute zero, print out an error. Otherwise, convert the value in `cel` to Farhenheit if `convert` is `'far'` and to Kelvin if `convert` is `'kel'`. In both cases, print out the converted value. If `convert` has any other value, print a warning message saying that `convert` is not `'kel'` or `'far'`. (3 pt)"
   ]
  },
  {
   "cell_type": "code",
   "execution_count": 149,
   "metadata": {},
   "outputs": [
    {
     "name": "stdout",
     "output_type": "stream",
     "text": [
      "43\n",
      "kel\n",
      "-230.14999999999998\n"
     ]
    }
   ],
   "source": [
    "import random \n",
    "\n",
    "x = input()\n",
    "cel = float(x)\n",
    "convert = random.choice(['far', 'kel'])\n",
    "print(convert) # testing if convert is randomly generating far or kel\n",
    "\n",
    "if cel < -273.13:\n",
    "    print(\"Error!\")\n",
    "else:\n",
    "    if convert == 'far':\n",
    "        F = (cel * (9/5)) + 32\n",
    "        print(F)\n",
    "    if convert == 'kel':\n",
    "        K = cel - 273.15\n",
    "        print(K)\n",
    "    else:\n",
    "        print(\"Your variable 'convert' is not in kel or far\")"
   ]
  },
  {
   "cell_type": "code",
   "execution_count": null,
   "metadata": {},
   "outputs": [],
   "source": []
  },
  {
   "cell_type": "code",
   "execution_count": null,
   "metadata": {},
   "outputs": [],
   "source": []
  }
 ],
 "metadata": {
  "kernelspec": {
   "display_name": "Python 3 (ipykernel)",
   "language": "python",
   "name": "python3"
  },
  "language_info": {
   "codemirror_mode": {
    "name": "ipython",
    "version": 3
   },
   "file_extension": ".py",
   "mimetype": "text/x-python",
   "name": "python",
   "nbconvert_exporter": "python",
   "pygments_lexer": "ipython3",
   "version": "3.9.7"
  },
  "vscode": {
   "interpreter": {
    "hash": "b52b534d3e8b2df8a7f375ea8b488ed7c2e546a5d77230d70bd2c6badbd8c861"
   }
  }
 },
 "nbformat": 4,
 "nbformat_minor": 2
}
