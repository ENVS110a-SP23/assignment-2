{
 "cells": [
  {
   "cell_type": "markdown",
   "metadata": {},
   "source": [
    "# Assignment 2: Fundamentals of Python (30 pts)"
   ]
  },
  {
   "cell_type": "markdown",
   "metadata": {},
   "source": [
    "## Question 1: Markdown  (5 pts)\n",
    "\n",
    "Create a markdown cell below. Do the following tasks: \n",
    "\n",
    "- Display an image. (1 pt)\n",
    "- Write a caption for the image in italics. (1 pt)\n",
    "- Link a wikipedia page. (1 pt)\n",
    "- Write a bullet point list summarizing the page (don't be thorough, just want to see you make bullet points.) (1 pt)\n",
    "- Write an equation on its own line that includes a fraction and an exponent (e.g. 2 squared).\n"
   ]
  },
  {
   "attachments": {},
   "cell_type": "markdown",
   "metadata": {},
   "source": [
    "![The Internet's Busiest Music Nerd](https://i.ytimg.com/vi/tMMlfrgVr-U/hqdefault.jpg?sqp=-oaymwEjCOADEI4CSFryq4qpAxUIARUAAAAAGAElAADIQj0AgKJDeAE=&rs=AOn4CLCHvUyY61ymplxUMOotXJcRknKAUQ)\n",
    "\n",
    "*The Internet's Busiest Music Nerd, an 8/10 for Paramore! in 2023?!* - *oil on canvas, 2023*\n",
    "\n",
    "---\n",
    "\n",
    "[The Internet's Busiest Music Nerd Wiki](https://en.wikipedia.org/wiki/Anthony_Fantano)\n",
    "\n",
    "---\n",
    "- The\n",
    "- Internet's\n",
    "- Busiest\n",
    "- Music\n",
    "- Nerd\n",
    "- Short intro, Early life (born in Connecticut)\n",
    "- No Death section (Status: Alive, presumably)\n",
    "\n",
    "---\n",
    "$$ \\frac{bu}{sy} + {mu^s} = \\frac{ne}{rd} $$\n"
   ]
  },
  {
   "cell_type": "markdown",
   "metadata": {},
   "source": [
    "## Question 2: Data types and variables (5 pt)\n",
    "\n",
    "\n",
    "- Create 3 variables with the values of `9`, `9.9`, and `\"9\"` (1 pt).\n",
    "- Print out the data types of each variable (1 pt).\n",
    "- Convert the 3 variable types to the same data type and then add them together to get the following values:\n",
    "  - `27` (1 pt)\n",
    "  - `27.9` (1 pt)\n",
    "  - `999.9` (1 pt)\n"
   ]
  },
  {
   "cell_type": "code",
   "execution_count": 26,
   "metadata": {},
   "outputs": [
    {
     "name": "stdout",
     "output_type": "stream",
     "text": [
      "<class 'int'>\n",
      "<class 'float'>\n",
      "<class 'str'>\n"
     ]
    }
   ],
   "source": [
    "# your answer here:\n",
    "x = 9\n",
    "y = 9.9\n",
    "z = \"9\"\n",
    "print(type(9))\n",
    "print(type(9.9))\n",
    "print(type(\"9\"))"
   ]
  },
  {
   "cell_type": "code",
   "execution_count": 35,
   "metadata": {},
   "outputs": [
    {
     "name": "stdout",
     "output_type": "stream",
     "text": [
      "27\n",
      "27.9\n",
      "999.9\n"
     ]
    }
   ],
   "source": [
    "print(x + int(y) + int(z))\n",
    "print(y + float(x) + float(z))\n",
    "print(z + str(x) + str(y))"
   ]
  },
  {
   "cell_type": "markdown",
   "metadata": {},
   "source": [
    "## Question 3: Data structures (5 pt)\n",
    "\n",
    "- Create a dictionary with 3 keys called `'a'`, `'b'`, and `'c'`. The value for each key should be a blank list. (1 pt)\n",
    "- Append the list associated with key `a` with a blank set. (1 pt)\n",
    "- Append the list associated with key `b` with any 4 numbers. (1 pt)\n",
    "- Change the third item in the list associated with key `b` to be `1000`. (1 pt)\n",
    "- Print out the dictionary (1 pt)"
   ]
  },
  {
   "cell_type": "code",
   "execution_count": 44,
   "metadata": {},
   "outputs": [
    {
     "name": "stdout",
     "output_type": "stream",
     "text": [
      "{'a': [set()], 'b': [1, 2, 1000, 4], 'c': []}\n"
     ]
    }
   ],
   "source": [
    "# your code here:\n",
    "Polachek_list = list()\n",
    "Paramore_list = list()\n",
    "Scrongk_list = list()\n",
    "meep_dict = {\n",
    "'a': Polachek_list,\n",
    "'b': Paramore_list,\n",
    "'c': Scrongk_list\n",
    "}\n",
    "Polachek_set = set()\n",
    "Polachek_list.append(Polachek_set)\n",
    "Paramore_list.append(1)\n",
    "Paramore_list.append(2)\n",
    "Paramore_list.append(3)\n",
    "Paramore_list.append(4)\n",
    "Paramore_list[2] = 1000\n",
    "\n",
    "print(meep_dict)"
   ]
  },
  {
   "cell_type": "markdown",
   "metadata": {},
   "source": [
    "## Question 4: Transferring to different structure (5 pts)\n",
    "\n",
    "Some data was collected by 5 different researchers on deer population sizes. Below, this data was recorded with accompanying temperature data and dates in three lists. In each list, one researcher is associated with the same index.\n",
    "\n",
    "0. Haley McCann\n",
    "1. Siena Welch\n",
    "2. Jaylin Mercado\n",
    "3. Ismael Hayden\n",
    "4. Nina Bright\n",
    "\n",
    "Use the data across the three lists to create a dictionary storing each researcher's name and data as key:value pairs. Carefully consider how to best store the data as each value (4 pt).\n",
    "\n",
    "Retrieve the data from the lists using indexing; **do NOT** manually type the data into the dictionary. (1 pt)"
   ]
  },
  {
   "cell_type": "code",
   "execution_count": 94,
   "metadata": {},
   "outputs": [
    {
     "name": "stdout",
     "output_type": "stream",
     "text": [
      "{'Haley McCann': {'Temperature': 29.75, 'Population': 442, 'Date': '5/25/2022'}, 'Siena Welch': {'Temperature': 12.63, 'Population': 336, 'Date': '3/18/2022'}, 'Jaylin Mercado': {'Temperature': 31.58, 'Population': 505, 'Date': '6/28/2022'}, 'Ismael Hayden': {'Temperature': 7.16, 'Populations': 913, 'Date': '11/11/2022'}, 'Nina Bright': {'Temperature': 32.51, 'Populations': 933, 'Date': '7/6/2023'}}\n"
     ]
    }
   ],
   "source": [
    "# don't modify the lists\n",
    "\n",
    "temperatures = [29.75, 12.63, 31.58, 7.16, 32.51]\n",
    "\n",
    "populations = [442, 336, 505, 913, 933]\n",
    "\n",
    "dates = ['5/25/2022','3/18/2022','6/28/2022','11/11/2022','7/6/2023']\n",
    "\n",
    "# your code below:\n",
    "Haley_McCann = {\n",
    "    \"Temperature\": temperatures[0],\n",
    "    \"Population\": populations[0],\n",
    "    \"Date\": dates[0]\n",
    "}\n",
    "Siena_Welch = {\n",
    "    \"Temperature\": temperatures[1],\n",
    "    \"Population\": populations[1],\n",
    "    \"Date\": dates[1]\n",
    "}\n",
    "Jaylin_Mercado = {\n",
    "    \"Temperature\": temperatures[2],\n",
    "    \"Population\": populations[2],\n",
    "    \"Date\": dates[2]\n",
    "}\n",
    "Ismael_Hayden = {\n",
    "    \"Temperature\": temperatures[3],\n",
    "    \"Populations\": populations[3],\n",
    "    \"Date\": dates[3]\n",
    "}\n",
    "Nina_Bright = {\n",
    "    \"Temperature\": temperatures[4],\n",
    "    \"Populations\": populations[4],\n",
    "    \"Date\": dates[4]\n",
    "}\n",
    "Deer_Data = {'Haley McCann': Haley_McCann, 'Siena Welch': Siena_Welch, 'Jaylin Mercado': Jaylin_Mercado, 'Ismael Hayden': Ismael_Hayden, 'Nina Bright': Nina_Bright}\n",
    "print(Deer_Data)"
   ]
  },
  {
   "cell_type": "markdown",
   "metadata": {},
   "source": [
    "## Question 5: Booleans\n",
    "What is the value of each of the following statements? Explain why for each statement. (1 pt each)"
   ]
  },
  {
   "cell_type": "code",
   "execution_count": 102,
   "metadata": {},
   "outputs": [
    {
     "data": {
      "text/plain": [
       "0"
      ]
     },
     "execution_count": 102,
     "metadata": {},
     "output_type": "execute_result"
    }
   ],
   "source": [
    "# 1\n",
    "True and False\n",
    "\n",
    "# 2\n",
    "not True or False\n",
    "\n",
    "# 3\n",
    "True or False or True\n",
    "\n",
    "# 4\n",
    "not (not True or not False)\n",
    "\n",
    "# 5\n",
    "int( not(10 > 5 and 2 < 3) )\n",
    "\n"
   ]
  },
  {
   "cell_type": "markdown",
   "metadata": {},
   "source": [
    "### Answers:"
   ]
  },
  {
   "cell_type": "code",
   "execution_count": 162,
   "metadata": {},
   "outputs": [
    {
     "data": {
      "text/plain": [
       "False"
      ]
     },
     "execution_count": 162,
     "metadata": {},
     "output_type": "execute_result"
    }
   ],
   "source": [
    "int(not(10 > 5 and 2 < 3) )"
   ]
  },
  {
   "attachments": {},
   "cell_type": "markdown",
   "metadata": {},
   "source": [
    "- 1\n",
    "False because \"and\" will only result in True if both statements are True. In this case, False and True hold different values. \n",
    "- 2\n",
    "The result is False. \"not\" serves as a negation for any statements being made in the Boolean expression. In order for \"or\" to be true, just one of the statements must be false, but \"not\" negates this rule, thus making it so that the expression is false. \n",
    "- 3\n",
    "The result is True. This is because \"or\" just needs at least one statement in the Boolean expression to be True, to be True. \n",
    "- 4\n",
    "The result is False. The expression inside the parentheses results in True, because \"not False\" results in \"True\" when evaluated with \"or\". Therefore, negating the entire statement with \"not\" outside of the parenthesis negates the truth of the expression.\n",
    "- 5 \n",
    "The result is False. The statement after \"not\" is evaluating if 10 > 5 AND if 2 < 3, which are true statements. However, these results are negated with \"not\", thus resulting in a false. The \"int()\" is there just to hang out...\n",
    "\n"
   ]
  },
  {
   "cell_type": "markdown",
   "metadata": {},
   "source": [
    "## Question 6: Conditionals (5 pt)\n",
    " \n",
    "The following converts Celsius (C) to Farhenheit (F):\n",
    "\n",
    "$$F = (C * \\frac{9}{5}) + 32 $$\n",
    "\n",
    "You can convert Celsius (C) to Kelvin with the following (K).\n",
    "\n",
    "$$K = C - 273.15$$\n",
    "\n",
    "The lowest possible value in Celsius is -273.13, also known as absolute zero.\n",
    "\n",
    "Create a variable called `cel` set to be some number. It represents temperature in degrees Celsius. (1 pt)\n",
    "\n",
    "Create another variable called `convert`. Make it have either the value `'far'` or `'kel'`. (1 pt)\n",
    "\n",
    "Write code that does the following:\n",
    "\n",
    "If `cel` is below absolute zero, print out an error. Otherwise, convert the value in `cel` to Farhenheit if `convert` is `'far'` and to Kelvin if `convert` is `'kel'`. In both cases, print out the converted value. If `convert` has any other value, print a warning message saying that `convert` is not `'kel'` or `'far'`. (3 pt)"
   ]
  },
  {
   "cell_type": "code",
   "execution_count": 136,
   "metadata": {},
   "outputs": [
    {
     "name": "stdout",
     "output_type": "stream",
     "text": [
      "Error: AGHHHHHHHHHHHHH!\n"
     ]
    }
   ],
   "source": [
    "# your code here:\n",
    "\n",
    "cel = -300\n",
    "convert = (cel * (9/5) + 32)\n",
    "if cel < -273.13: \n",
    "    print('Error: AGHHHHHHHHHHHHH!')\n",
    "elif cel > -273.13:\n",
    "    print(convert)\n",
    "else: \n",
    "    print(\"convert is not 'far'\")\n",
    "\n",
    "    \n"
   ]
  }
 ],
 "metadata": {
  "kernelspec": {
   "display_name": "base",
   "language": "python",
   "name": "python3"
  },
  "language_info": {
   "codemirror_mode": {
    "name": "ipython",
    "version": 3
   },
   "file_extension": ".py",
   "mimetype": "text/x-python",
   "name": "python",
   "nbconvert_exporter": "python",
   "pygments_lexer": "ipython3",
   "version": "3.9.13"
  },
  "orig_nbformat": 4,
  "vscode": {
   "interpreter": {
    "hash": "c979413b1477e44d127c4fc679c7956d83b15f76b19e6f73c2dfdbd5d666ab30"
   }
  }
 },
 "nbformat": 4,
 "nbformat_minor": 2
}
