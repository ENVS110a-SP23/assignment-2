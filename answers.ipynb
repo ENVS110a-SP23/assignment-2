{
 "cells": [
  {
   "cell_type": "markdown",
   "metadata": {},
   "source": [
    "# Assignment 2: Fundamentals of Python (30 pts)"
   ]
  },
  {
   "cell_type": "markdown",
   "metadata": {},
   "source": [
    "## Question 1: Markdown  (5 pts)\n",
    "\n",
    "Create a markdown cell below. Do the following tasks: \n",
    "\n",
    "- Display an image. (1 pt)\n",
    "- Write a caption for the image in italics. (1 pt)\n",
    "- Link a wikipedia page. (1 pt)\n",
    "- Write a bullet point list summarizing the page (don't be thorough, just want to see you make bullet points.) (1 pt)\n",
    "- Write an equation on its own line that includes a fraction and an exponent (e.g. 2 squared).\n"
   ]
  },
  {
   "attachments": {},
   "cell_type": "markdown",
   "metadata": {},
   "source": [
    "![Assignment Screenshot](Images/Assignment_Screenshot.png)\n",
    "*Assignment Screenshot*\n",
    "\n",
    "[Markdown Wikipedia Page](https://en.wikipedia.org/wiki/Markdown)\n",
    "- History\n",
    "- Rise and divergence\n",
    "- Standardization\n",
    "- Variants\n",
    "- Examples\n",
    "- Implementations\n",
    "- See also\n",
    "- Explanatory notes\n",
    "- References\n",
    "- External links\n",
    "\n",
    "$$x = x_0 + v_0 t + \\frac{1}{2}at^2$$"
   ]
  },
  {
   "cell_type": "markdown",
   "metadata": {},
   "source": [
    "## Question 2: Data types and variables (5 pt)\n",
    "\n",
    "\n",
    "- Create 3 variables with the values of `9`, `9.9`, and `\"9\"` (1 pt).\n",
    "- Print out the data types of each variable (1 pt).\n",
    "- Convert the 3 variable types to the same data type and then add them together to get the following values:\n",
    "  - `27` (1 pt)\n",
    "  - `27.9` (1 pt)\n",
    "  - `999.9` (1 pt)\n"
   ]
  },
  {
   "cell_type": "code",
   "execution_count": 3,
   "metadata": {},
   "outputs": [
    {
     "name": "stdout",
     "output_type": "stream",
     "text": [
      "27\n",
      "27.9\n",
      "999.9\n"
     ]
    }
   ],
   "source": [
    "# your answer here:\n",
    "x = 9\n",
    "y = 9.9\n",
    "z = \"9\"\n",
    "print(x + int(y) + int(z))\n",
    "print(float(x) + y + float(z))\n",
    "print(str(x) + z + str(y))"
   ]
  },
  {
   "cell_type": "markdown",
   "metadata": {},
   "source": [
    "## Question 3: Data structures (5 pt)\n",
    "\n",
    "- Create a dictionary with 3 keys called `'a'`, `'b'`, and `'c'`. The value for each key should be a blank list. (1 pt)\n",
    "- Append the list associated with key `a` with a blank set. (1 pt)\n",
    "- Append the list associated with key `b` with any 4 numbers. (1 pt)\n",
    "- Change the third item in the list associated with key `b` to be `1000`. (1 pt)\n",
    "- Print out the dictionary (1 pt)"
   ]
  },
  {
   "cell_type": "code",
   "execution_count": 18,
   "metadata": {},
   "outputs": [
    {
     "name": "stdout",
     "output_type": "stream",
     "text": [
      "{'a': [set()], 'b': [1, 2, 1000, 4], 'c': []}\n"
     ]
    }
   ],
   "source": [
    "# your code here:\n",
    "my_dict = {k: [] for k in ['a','b','c']}\n",
    "my_dict['a'].append(set())\n",
    "my_dict['b'].extend([1, 2, 3, 4])\n",
    "my_dict['b'][2] = 1000\n",
    "print(my_dict)"
   ]
  },
  {
   "cell_type": "markdown",
   "metadata": {},
   "source": [
    "## Question 4: Transferring to different structure (5 pts)\n",
    "\n",
    "Some data was collected by 5 different researchers on deer population sizes. Below, this data was recorded with accompanying temperature data and dates in three lists. In each list, one researcher is associated with the same index.\n",
    "\n",
    "0. Haley McCann\n",
    "1. Siena Welch\n",
    "2. Jaylin Mercado\n",
    "3. Ismael Hayden\n",
    "4. Nina Bright\n",
    "\n",
    "Use the data across the three lists to create a dictionary storing each researcher's name and data as key:value pairs. Carefully consider how to best store the data as each value (4 pt).\n",
    "\n",
    "Retrieve the data from the lists using indexing; **do NOT** manually type the data into the dictionary. (1 pt)"
   ]
  },
  {
   "cell_type": "code",
   "execution_count": 19,
   "metadata": {},
   "outputs": [
    {
     "name": "stdout",
     "output_type": "stream",
     "text": [
      "{'Haley McCann': {'temperature': 29.75, 'population': 442, 'date': '5/25/2022'}, 'Siena Welch': {'temperature': 12.63, 'population': 336, 'date': '3/18/2022'}, 'Jaylin Mercado': {'temperature': 31.58, 'population': 505, 'date': '6/28/2022'}, 'Ismael Hayden': {'temperature': 7.16, 'population': 913, 'date': '11/11/2022'}, 'Nina Bright': {'temperature': 32.51, 'population': 933, 'date': '7/6/2023'}}\n"
     ]
    }
   ],
   "source": [
    "# don't modify the lists\n",
    "\n",
    "temperatures = [29.75, 12.63, 31.58, 7.16, 32.51]\n",
    "\n",
    "populations = [442, 336, 505, 913, 933]\n",
    "\n",
    "dates = ['5/25/2022','3/18/2022','6/28/2022','11/11/2022','7/6/2023']\n",
    "\n",
    "# your code below:\n",
    "\n",
    "researchers = ['Haley McCann', 'Siena Welch', 'Jaylin Mercado', 'Ismael Hayden', 'Nina Bright']\n",
    "\n",
    "data_dict = {researchers[i]: {'temperature': temperatures[i], 'population': populations[i], 'date': dates[i]} for i in range(5)}\n",
    "print(data_dict)"
   ]
  },
  {
   "cell_type": "markdown",
   "metadata": {},
   "source": [
    "## Question 5: Booleans\n",
    "What is the value of each of the following statements? Explain why for each statement. (1 pt each)"
   ]
  },
  {
   "cell_type": "code",
   "execution_count": 37,
   "metadata": {},
   "outputs": [
    {
     "name": "stdout",
     "output_type": "stream",
     "text": [
      "False\n",
      "False\n",
      "True\n",
      "False\n",
      "0\n"
     ]
    }
   ],
   "source": [
    "# 1\n",
    "print(True and False)\n",
    "\n",
    "# 2\n",
    "print(not True or False)\n",
    "\n",
    "# 3\n",
    "print(True or False or True)\n",
    "\n",
    "# 4\n",
    "print(not (not True or not False))\n",
    "\n",
    "# 5\n",
    "print(int( not(10 > 5 and 2 < 3) ))\n",
    "\n"
   ]
  },
  {
   "cell_type": "markdown",
   "metadata": {},
   "source": [
    "### Answers:"
   ]
  },
  {
   "attachments": {},
   "cell_type": "markdown",
   "metadata": {},
   "source": [
    "1) False - 'and' will only evaluate as true if both expressions being compared are true.\n",
    "2) False - 'not True ' is evaluated first as False, so the entire statement is evaluated as False since neither 'not True' or 'False' are true.\n",
    "3) True - The first 'or' is true because one of the values being compared is True. Since the first 'or' evaluates as true, the second does as well.\n",
    "4) False - The statement in the parentheses evaluates as true because 'not False' is true. Then, the 'not' outside the parenthesis negates it to false.\n",
    "5) 0 - The statement in the innermost parentheses evaluates as True because both comparisons are true. Then, 'not' makes this result False. Casting the boolean False to an int makes it a 0."
   ]
  },
  {
   "attachments": {},
   "cell_type": "markdown",
   "metadata": {},
   "source": [
    "## Question 6: Conditionals (5 pt)\n",
    " \n",
    "The following converts Celsius (C) to Farhenheit (F):\n",
    "\n",
    "$$F = (C * \\frac{9}{5}) + 32 $$\n",
    "\n",
    "You can convert Celsius (C) to Kelvin with the following (K).\n",
    "\n",
    "$$K = C + 273.15$$\n",
    "\n",
    "The lowest possible value in Celsius is -273.13, also known as absolute zero.\n",
    "\n",
    "Create a variable called `cel` set to be some number. It represents temperature in degrees Celsius. (1 pt)\n",
    "\n",
    "Create another variable called `convert`. Make it have either the value `'far'` or `'kel'`. (1 pt)\n",
    "\n",
    "Write code that does the following:\n",
    "\n",
    "If `cel` is below absolute zero, print out an error. Otherwise, convert the value in `cel` to Farhenheit if `convert` is `'far'` and to Kelvin if `convert` is `'kel'`. In both cases, print out the converted value. If `convert` has any other value, print a warning message saying that `convert` is not `'kel'` or `'far'`. (3 pt)"
   ]
  },
  {
   "cell_type": "code",
   "execution_count": 36,
   "metadata": {},
   "outputs": [
    {
     "name": "stdout",
     "output_type": "stream",
     "text": [
      "40.45 C is equal to 104.810 F\n"
     ]
    }
   ],
   "source": [
    "# your code here:\n",
    "\n",
    "cel = 40.45\n",
    "convert = 'far'\n",
    "\n",
    "if cel < -273.13:\n",
    "    print('Error: temperature cannot be below absolute zero (-273.13 C)')\n",
    "elif convert == 'far':\n",
    "    far = cel *9/5 + 32\n",
    "    print(f'{cel} C is equal to {far:.03f} F')\n",
    "elif convert == 'kel':\n",
    "    kel = cel + 273.15\n",
    "    print(f'{cel} C is equal to {kel:.03f} K')\n",
    "else:\n",
    "    print(\"Error: convert is not equal to 'kel' or 'far'\")"
   ]
  },
  {
   "cell_type": "code",
   "execution_count": null,
   "metadata": {},
   "outputs": [],
   "source": []
  }
 ],
 "metadata": {
  "kernelspec": {
   "display_name": "Python 3",
   "language": "python",
   "name": "python3"
  },
  "language_info": {
   "codemirror_mode": {
    "name": "ipython",
    "version": 3
   },
   "file_extension": ".py",
   "mimetype": "text/x-python",
   "name": "python",
   "nbconvert_exporter": "python",
   "pygments_lexer": "ipython3",
   "version": "3.11.1"
  },
  "orig_nbformat": 4,
  "vscode": {
   "interpreter": {
    "hash": "aee8b7b246df8f9039afb4144a1f6fd8d2ca17a180786b69acc140d282b71a49"
   }
  }
 },
 "nbformat": 4,
 "nbformat_minor": 2
}
