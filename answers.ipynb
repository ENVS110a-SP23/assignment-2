{
 "cells": [
  {
   "cell_type": "markdown",
   "metadata": {},
   "source": [
    "# Assignment 2: Fundamentals of Python (30 pts)"
   ]
  },
  {
   "cell_type": "markdown",
   "metadata": {},
   "source": [
    "## Question 1: Markdown  (5 pts)\n",
    "\n",
    "Create a markdown cell below. Do the following tasks: \n",
    "\n",
    "- Display an image. (1 pt)\n",
    "- Write a caption for the image in italics. (1 pt)\n",
    "- Link a wikipedia page. (1 pt)\n",
    "- Write a bullet point list summarizing the page (don't be thorough, just want to see you make bullet points.) (1 pt)\n",
    "- Write an equation on its own line that includes a fraction and an exponent (e.g. 2 squared).\n"
   ]
  },
  {
   "cell_type": "markdown",
   "metadata": {},
   "source": [
    "![Ramen Picture](../ramenpic.jpg \"MarineGEO logo\")\n",
    "\n",
    "\n",
    "*A bowl of delicious ramen*\n",
    "\n",
    "[Learn more about ramen](https://en.wikipedia.org/wiki/Ramen)\n",
    "- Ramen is a Japanese noodle dish\n",
    "- It is an adaptation of Chinese wheat noodle soups\n",
    "- Instant ramen noodles were invented by Momofuku Ando\n",
    "- To make ramen, all you need is flour, water, salt, and kansui\n",
    "- Popular flavors include shio, miso, shoyu, and kare(curry)\n",
    "- There are reginal variations throughout Japan\n",
    "\n",
    "Calculate how much ramen you eat in a week:\n",
    "    \n",
    "$$RamenEaten=(shoyu)^4+\\frac{1}{2}(miso)+3(kare)$$\n"
   ]
  },
  {
   "cell_type": "markdown",
   "metadata": {},
   "source": [
    "## Question 2: Data types and variables (5 pt)\n",
    "\n",
    "\n",
    "- Create 3 variables with the values of `9`, `9.9`, and `\"9\"` (1 pt).\n",
    "- Print out the data types of each variable (1 pt).\n",
    "- Convert the 3 variable types to the same data type and then add them together to get the following values:\n",
    "  - `27` (1 pt)\n",
    "  - `27.9` (1 pt)\n",
    "  - `999.9` (1 pt)\n"
   ]
  },
  {
   "cell_type": "code",
   "execution_count": 17,
   "metadata": {},
   "outputs": [
    {
     "name": "stdout",
     "output_type": "stream",
     "text": [
      "<class 'int'>\n",
      "<class 'float'>\n",
      "<class 'str'>\n",
      "27\n",
      "27.9\n",
      "999.9\n"
     ]
    }
   ],
   "source": [
    "# your answer here:\n",
    "a = 9\n",
    "b = 9.9\n",
    "c = \"9\"\n",
    "\n",
    "print(type(a))\n",
    "print(type(b))\n",
    "print(type(c))\n",
    "\n",
    "print(a + int(b) + int(c))\n",
    "print(float(a) + b + float(c))\n",
    "print(str(9) + c + str(b))"
   ]
  },
  {
   "cell_type": "markdown",
   "metadata": {},
   "source": [
    "## Question 3: Data structures (5 pt)\n",
    "\n",
    "- Create a dictionary with 3 keys called `'a'`, `'b'`, and `'c'`. The value for each key should be a blank list. (1 pt)\n",
    "- Append the list associated with key `a` with a blank set. (1 pt)\n",
    "- Append the list associated with key `b` with any 4 numbers. (1 pt)\n",
    "- Change the third item in the list associated with key `b` to be `1000`. (1 pt)\n",
    "- Print out the dictionary (1 pt)"
   ]
  },
  {
   "cell_type": "code",
   "execution_count": 21,
   "metadata": {},
   "outputs": [
    {
     "name": "stdout",
     "output_type": "stream",
     "text": [
      "{'a': [set()], 'b': [1, 2, 1000, 4], 'c': []}\n"
     ]
    }
   ],
   "source": [
    "# your code here:\n",
    "dictionary = {'a': [], 'b':[], 'c':[]}\n",
    "dictionary['a'].append(set())\n",
    "\n",
    "dictionary['b'].append(1)\n",
    "dictionary['b'].append(2)\n",
    "dictionary['b'].append(3)\n",
    "dictionary['b'].append(4)\n",
    "\n",
    "dictionary['b'][2] = 1000\n",
    "\n",
    "print(dictionary)"
   ]
  },
  {
   "cell_type": "markdown",
   "metadata": {},
   "source": [
    "## Question 4: Transferring to different structure (5 pts)\n",
    "\n",
    "Some data was collected by 5 different researchers on deer population sizes. Below, this data was recorded with accompanying temperature data and dates in three lists. In each list, one researcher is associated with the same index.\n",
    "\n",
    "0. Haley McCann\n",
    "1. Siena Welch\n",
    "2. Jaylin Mercado\n",
    "3. Ismael Hayden\n",
    "4. Nina Bright\n",
    "\n",
    "Use the data across the three lists to create a dictionary storing each researcher's name and data as key:value pairs. Carefully consider how to best store the data as each value (4 pt).\n",
    "\n",
    "Retrieve the data from the lists using indexing; **do NOT** manually type the data into the dictionary. (1 pt)"
   ]
  },
  {
   "cell_type": "code",
   "execution_count": 25,
   "metadata": {},
   "outputs": [
    {
     "name": "stdout",
     "output_type": "stream",
     "text": [
      "{'Haley McCann': [29.75, 442, '5/25/2022'], 'Siena Welch': [12.63, 336, '3/18/2022'], 'Jaylin Mercado': [31.58, 505, '6/28/2022'], 'Ismael Hayden': [7.16, 913, '11/11/2022'], 'Nina Bright': [32.51, 933, '7/6/2023']}\n"
     ]
    }
   ],
   "source": [
    "# don't modify the lists\n",
    "\n",
    "temperatures = [29.75, 12.63, 31.58, 7.16, 32.51]\n",
    "\n",
    "populations = [442, 336, 505, 913, 933]\n",
    "\n",
    "dates = ['5/25/2022','3/18/2022','6/28/2022','11/11/2022','7/6/2023']\n",
    "\n",
    "# your code below:\n",
    "deer_research = {'Haley McCann':[], 'Siena Welch':[], 'Jaylin Mercado':[], 'Ismael Hayden':[], 'Nina Bright':[]}\n",
    "\n",
    "for idx, val in enumerate(deer_research.values()):\n",
    "    val.append(temperatures[idx])\n",
    "    val.append(populations[idx])\n",
    "    val.append(dates[idx])\n",
    "    \n",
    "print(deer_research)\n"
   ]
  },
  {
   "cell_type": "markdown",
   "metadata": {},
   "source": [
    "## Question 5: Booleans\n",
    "What is the value of each of the following statements? Explain why for each statement. (1 pt each)"
   ]
  },
  {
   "cell_type": "code",
   "execution_count": 30,
   "metadata": {},
   "outputs": [
    {
     "name": "stdout",
     "output_type": "stream",
     "text": [
      "0\n"
     ]
    }
   ],
   "source": [
    "# 1\n",
    "True and False\n",
    "\n",
    "# 2\n",
    "not True or False\n",
    "\n",
    "# 3\n",
    "True or False or True\n",
    "\n",
    "# 4\n",
    "not (not True or not False)\n",
    "\n",
    "# 5\n",
    "int( not(10 > 5 and 2 < 3) )\n"
   ]
  },
  {
   "cell_type": "markdown",
   "metadata": {},
   "source": [
    "### Answers:\n",
    "1. False: the statemeent cannot be true and false at the same time, so it's false\n",
    "2. False: 'not True' means False, so it's False or False which is False\n",
    "3. True: there are only or statements, so only one needs to be true, so it's true\n",
    "4. False: this simplifies to not(False or True)=not(True)=False\n",
    "5. 0: this simplifies to int(not(True and True))=int(not(True))=int(False), and the integer value of False is 0"
   ]
  },
  {
   "cell_type": "markdown",
   "metadata": {},
   "source": [
    "## Question 6: Conditionals (5 pt)\n",
    " \n",
    "The following converts Celsius (C) to Farhenheit (F):\n",
    "\n",
    "$$F = (C * \\frac{9}{5}) + 32 $$\n",
    "\n",
    "You can convert Celsius (C) to Kelvin with the following (K).\n",
    "\n",
    "$$K = C - 273.15$$\n",
    "\n",
    "The lowest possible value in Celsius is -273.13, also known as absolute zero.\n",
    "\n",
    "Create a variable called `cel` set to be some number. It represents temperature in degrees Celsius. (1 pt)\n",
    "\n",
    "Create another variable called `convert`. Make it have either the value `'far'` or `'kel'`. (1 pt)\n",
    "\n",
    "Write code that does the following:\n",
    "\n",
    "If `cel` is below absolute zero, print out an error. Otherwise, convert the value in `cel` to Farhenheit if `convert` is `'far'` and to Kelvin if `convert` is `'kel'`. In both cases, print out the converted value. If `convert` has any other value, print a warning message saying that `convert` is not `'kel'` or `'far'`. (3 pt)"
   ]
  },
  {
   "cell_type": "code",
   "execution_count": 34,
   "metadata": {},
   "outputs": [
    {
     "name": "stdout",
     "output_type": "stream",
     "text": [
      "warning: kl is not kelvin or farhenehit\n"
     ]
    }
   ],
   "source": [
    "# your code here:\n",
    "cel = -100\n",
    "convert = 'kel'\n",
    "\n",
    "if(cel < -273.13):\n",
    "    print('error: below aboslute zero')\n",
    "elif(convert == 'far'):\n",
    "    print((cel*(9/5))+32)\n",
    "elif(convert == 'kel'):\n",
    "    print(cel - 273.15)\n",
    "else:\n",
    "    print('warning: ' + str(convert) + ' is not kelvin or farhenehit')\n",
    "    \n"
   ]
  },
  {
   "cell_type": "code",
   "execution_count": null,
   "metadata": {},
   "outputs": [],
   "source": []
  }
 ],
 "metadata": {
  "kernelspec": {
   "display_name": "Python 3",
   "language": "python",
   "name": "python3"
  },
  "language_info": {
   "codemirror_mode": {
    "name": "ipython",
    "version": 3
   },
   "file_extension": ".py",
   "mimetype": "text/x-python",
   "name": "python",
   "nbconvert_exporter": "python",
   "pygments_lexer": "ipython3",
   "version": "3.8.5"
  },
  "vscode": {
   "interpreter": {
    "hash": "b52b534d3e8b2df8a7f375ea8b488ed7c2e546a5d77230d70bd2c6badbd8c861"
   }
  }
 },
 "nbformat": 4,
 "nbformat_minor": 2
}
