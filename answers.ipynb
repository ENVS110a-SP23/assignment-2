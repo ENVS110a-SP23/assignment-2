{
 "cells": [
  {
   "cell_type": "markdown",
   "metadata": {},
   "source": [
    "# Assignment 2: Fundamentals of Python (30 pts)"
   ]
  },
  {
   "cell_type": "markdown",
   "metadata": {},
   "source": [
    "## Question 1: Markdown  (5 pts)\n",
    "\n",
    "Create a markdown cell below. Do the following tasks: \n",
    "\n",
    "- Display an image. (1 pt)\n",
    "- Write a caption for the image in italics. (1 pt)\n",
    "- Link a wikipedia page. (1 pt)\n",
    "- Write a bullet point list summarizing the page (don't be thorough, just want to see you make bullet points.) (1 pt)\n",
    "- Write an equation on its own line that includes a fraction and an exponent (e.g. 2 squared).\n"
   ]
  },
  {
   "attachments": {},
   "cell_type": "markdown",
   "metadata": {},
   "source": [
    "![Shrek](https://editors.dexerto.com/wp-content/uploads/2022/12/06/Shrek-5.jpg) \n",
    "\n",
    "*Poster for the Shrek 5 movie that never got made*\n",
    "\n",
    "[Shrek wiki](https://en.wikipedia.org/wiki/Shrek_(franchise))\n",
    "\n",
    "- Summary \n",
    "- Shrek (2001)\n",
    "- Shrek 2 (2004)\n",
    "- Shrek the Third (2007)\n",
    "- Shrek Forever After (2010)\n",
    "- Spinoffs\n",
    "- Future\n",
    "- Short films\n",
    "\n",
    "$$ \\frac{2a}{5} = 4a^2"
   ]
  },
  {
   "cell_type": "markdown",
   "metadata": {},
   "source": [
    "## Question 2: Data types and variables (5 pt)\n",
    "\n",
    "\n",
    "- Create 3 variables with the values of `9`, `9.9`, and `\"9\"` (1 pt).\n",
    "- Print out the data types of each variable (1 pt).\n",
    "- Convert the 3 variable types to the same data type and then add them together to get the following values:\n",
    "  - `27` (1 pt)\n",
    "  - `27.9` (1 pt)\n",
    "  - `999.9` (1 pt)\n"
   ]
  },
  {
   "cell_type": "code",
   "execution_count": 8,
   "metadata": {},
   "outputs": [
    {
     "name": "stdout",
     "output_type": "stream",
     "text": [
      "<class 'int'>\n",
      "<class 'float'>\n",
      "<class 'str'>\n",
      "solution 1 = 27\n",
      "solution 2 = 27.9\n",
      "solution 3 = 999.9\n"
     ]
    }
   ],
   "source": [
    "var1 = 9\n",
    "var2 = 9.9\n",
    "var3 = \"9\"\n",
    "\n",
    "print (type(var1))\n",
    "print (type(var2))\n",
    "print (type(var3))\n",
    "\n",
    "sol1 = var1 + int(var2) + int(var3)\n",
    "print(\"solution 1 =\",sol1)\n",
    "\n",
    "sol2 = float(var1) + var2 + float(var3)\n",
    "print(\"solution 2 =\",sol2)\n",
    "\n",
    "sol3 = str(var1) + var3 + str(var2)\n",
    "print(\"solution 3 =\",sol3)\n"
   ]
  },
  {
   "cell_type": "markdown",
   "metadata": {},
   "source": [
    "## Question 3: Data structures (5 pt)\n",
    "\n",
    "- Create a dictionary with 3 keys called `'a'`, `'b'`, and `'c'`. The value for each key should be a blank list. (1 pt)\n",
    "- Append the list associated with key `a` with a blank set. (1 pt)\n",
    "- Append the list associated with key `b` with any 4 numbers. (1 pt)\n",
    "- Change the third item in the list associated with key `b` to be `1000`. (1 pt)\n",
    "- Print out the dictionary (1 pt)"
   ]
  },
  {
   "cell_type": "code",
   "execution_count": 36,
   "metadata": {},
   "outputs": [
    {
     "name": "stdout",
     "output_type": "stream",
     "text": [
      "{'a': [set()], 'b': [[13, 26, 1000, 52]], 'c': []}\n"
     ]
    }
   ],
   "source": [
    "my_dict = {\n",
    "    'a':[],\n",
    "    'b':[],\n",
    "    'c':[]\n",
    "}\n",
    "\n",
    "my_set = set()\n",
    "\n",
    "my_dict['a'].append(my_set)\n",
    "\n",
    "my_list = [13,26,39,52]\n",
    "my_dict['b'].append(my_list)\n",
    "\n",
    "my_list[2] = 1000\n",
    "\n",
    "print(my_dict)"
   ]
  },
  {
   "cell_type": "markdown",
   "metadata": {},
   "source": [
    "## Question 4: Transferring to different structure (5 pts)\n",
    "\n",
    "Some data was collected by 5 different researchers on deer population sizes. Below, this data was recorded with accompanying temperature data and dates in three lists. In each list, one researcher is associated with the same index.\n",
    "\n",
    "0. Haley McCann\n",
    "1. Siena Welch\n",
    "2. Jaylin Mercado\n",
    "3. Ismael Hayden\n",
    "4. Nina Bright\n",
    "\n",
    "Use the data across the three lists to create a dictionary storing each researcher's name and data as key:value pairs. Carefully consider how to best store the data as each value (4 pt).\n",
    "\n",
    "Retrieve the data from the lists using indexing; **do NOT** manually type the data into the dictionary. (1 pt)"
   ]
  },
  {
   "cell_type": "code",
   "execution_count": 46,
   "metadata": {},
   "outputs": [
    {
     "name": "stdout",
     "output_type": "stream",
     "text": [
      "{'Researcher name': ['temperature', 'population', 'date'], 'Haley McCann': [29.75, 442, '5/25/2022'], 'Siena Welch': [12.63, 336, '3/18/2022'], 'Jaylin Mercado': [31.58, 505, '6/28/2022'], 'Ismael Hayden': [7.16, 913, '11/11/2022'], 'Nina Bright': [32.51, 933, '7/6/2023']}\n"
     ]
    }
   ],
   "source": [
    "# don't modify the lists\n",
    "\n",
    "temperatures = [29.75, 12.63, 31.58, 7.16, 32.51]\n",
    "\n",
    "populations = [442, 336, 505, 913, 933]\n",
    "\n",
    "dates = ['5/25/2022','3/18/2022','6/28/2022','11/11/2022','7/6/2023']\n",
    "\n",
    "# your code below:\n",
    "\n",
    "# 'Siena Welch','Jaylin Mercado', 'Ismael Hayden','Nina Bright']\n",
    "\n",
    "Researcher_data = {\n",
    "    'Researcher name': ['temperature','population','date'],\n",
    "    'Haley McCann': [temperatures[0],populations[0],dates[0]],\n",
    "    'Siena Welch': [temperatures[1],populations[1],dates[1]],\n",
    "    'Jaylin Mercado': [temperatures[2],populations[2],dates[2]],\n",
    "    'Ismael Hayden': [temperatures[3],populations[3],dates[3]],\n",
    "    'Nina Bright': [temperatures[4],populations[4],dates[4]]\n",
    "}\n",
    "\n",
    "print(Researcher_data)"
   ]
  },
  {
   "cell_type": "markdown",
   "metadata": {},
   "source": [
    "## Question 5: Booleans\n",
    "What is the value of each of the following statements? Explain why for each statement. (1 pt each)"
   ]
  },
  {
   "cell_type": "code",
   "execution_count": 63,
   "metadata": {},
   "outputs": [
    {
     "data": {
      "text/plain": [
       "0"
      ]
     },
     "execution_count": 63,
     "metadata": {},
     "output_type": "execute_result"
    }
   ],
   "source": [
    "# 1\n",
    "True and False \n",
    "#this is false, because the 2 conditions ('true' and 'false') cannot both be true simultaneously.\n",
    "\n",
    "# 2\n",
    "not True or False \n",
    "# this is false, because 'not true' = false, and F or F is false\n",
    "\n",
    "# 3\n",
    "True or False or True \n",
    "# following order of operations, \n",
    "# (True or False) or True \n",
    "# = (true) or true \n",
    "# = true\n",
    "\n",
    "# 4\n",
    "not (not True or not False)\n",
    "# = not (False or True)\n",
    "# = not (true)\n",
    "# = false\n",
    "\n",
    "# 5\n",
    "int( not(10 > 5 and 2 < 3) )\n",
    "# = int(not(true and true))\n",
    "# = int(not(true))\n",
    "# = int(false)\n",
    "# = 0\n",
    "\n"
   ]
  },
  {
   "cell_type": "markdown",
   "metadata": {},
   "source": [
    "### Answers:"
   ]
  },
  {
   "attachments": {},
   "cell_type": "markdown",
   "metadata": {},
   "source": [
    "## Question 6: Conditionals (5 pt)\n",
    " \n",
    "The following converts Celsius (C) to Farhenheit (F):\n",
    "\n",
    "$$F = (C * \\frac{9}{5}) + 32 $$\n",
    "\n",
    "You can convert Celsius (C) to Kelvin with the following (K).\n",
    "\n",
    "$$K = C + 273.15$$\n",
    "\n",
    "The lowest possible value in Celsius is -273.13, also known as absolute zero.\n",
    "\n",
    "Create a variable called `cel` set to be some number. It represents temperature in degrees Celsius. (1 pt)\n",
    "\n",
    "Create another variable called `convert`. Make it have either the value `'far'` or `'kel'`. (1 pt)\n",
    "\n",
    "Write code that does the following:\n",
    "\n",
    "If `cel` is below absolute zero, print out an error. Otherwise, convert the value in `cel` to Farhenheit if `convert` is `'far'` and to Kelvin if `convert` is `'kel'`. In both cases, print out the converted value. If `convert` has any other value, print a warning message saying that `convert` is not `'kel'` or `'far'`. (3 pt)"
   ]
  },
  {
   "cell_type": "code",
   "execution_count": 76,
   "metadata": {},
   "outputs": [
    {
     "name": "stdout",
     "output_type": "stream",
     "text": [
      "temp in far is 78.8 F\n"
     ]
    }
   ],
   "source": [
    "# your code here:\n",
    "\n",
    "cel = 26 # the ideal summer temperature\n",
    "\n",
    "convert = 'far'\n",
    "\n",
    "if cel < -273.13:\n",
    "\n",
    "    print('error: temp cannot be lower than absolute zero')\n",
    "\n",
    "elif cel >= -273.13:\n",
    "    if convert == 'far':\n",
    "        print('temp in',convert,'is',((cel*9)/5)+32,'F')\n",
    "\n",
    "    elif convert == 'kel':\n",
    "        print('temp in',convert,'is',cel+273.13,'K')\n",
    "\n",
    "    else:\n",
    "        print('error: pls specify Kel or Far')\n",
    "\n",
    "else:\n",
    "    print('error: is value an int?')\n",
    "\n"
   ]
  }
 ],
 "metadata": {
  "kernelspec": {
   "display_name": "Python 3.9.12 ('base')",
   "language": "python",
   "name": "python3"
  },
  "language_info": {
   "codemirror_mode": {
    "name": "ipython",
    "version": 3
   },
   "file_extension": ".py",
   "mimetype": "text/x-python",
   "name": "python",
   "nbconvert_exporter": "python",
   "pygments_lexer": "ipython3",
   "version": "3.9.13"
  },
  "orig_nbformat": 4,
  "vscode": {
   "interpreter": {
    "hash": "b52b534d3e8b2df8a7f375ea8b488ed7c2e546a5d77230d70bd2c6badbd8c861"
   }
  }
 },
 "nbformat": 4,
 "nbformat_minor": 2
}
