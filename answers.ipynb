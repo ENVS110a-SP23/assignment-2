{
 "cells": [
  {
   "cell_type": "markdown",
   "metadata": {},
   "source": [
    "# Assignment 2: Fundamentals of Python (30 pts)"
   ]
  },
  {
   "cell_type": "markdown",
   "metadata": {},
   "source": [
    "## Question 1: Markdown  (5 pts)\n",
    "\n",
    "Create a markdown cell below. Do the following tasks: \n",
    "\n",
    "- Display an image. (1 pt)\n",
    "- Write a caption for the image in italics. (1 pt)\n",
    "- Link a wikipedia page. (1 pt)\n",
    "- Write a bullet point list summarizing the page (don't be thorough, just want to see you make bullet points.) (1 pt)\n",
    "- Write an equation on its own line that includes a fraction and an exponent (e.g. 2 squared).\n"
   ]
  },
  {
   "attachments": {},
   "cell_type": "markdown",
   "metadata": {},
   "source": [
    "![an image](https://images.immediate.co.uk/production/volatile/sites/4/2022/06/GettyImages-1282300125-2f3f54a.jpg?quality=90&webp=true&crop=5px,197px,1191px,512px&resize=1200,510) \n",
    "*This is an image of a turtle I found on the internet*\n",
    "\n",
    "Here's a [Wikipedia Page](https://en.wikipedia.org/wiki/Turtle)\n",
    "\n",
    "This page has so much on it!\n",
    "- instructions\n",
    "- an image of a turtle\n",
    "- writing\n",
    "\n",
    "$$ x = \\frac{1}{2} + y^3 $$"
   ]
  },
  {
   "cell_type": "markdown",
   "metadata": {},
   "source": [
    "## Question 2: Data types and variables (5 pt)\n",
    "\n",
    "\n",
    "- Create 3 variables with the values of `9`, `9.9`, and `\"9\"` (1 pt).\n",
    "- Print out the data types of each variable (1 pt).\n",
    "- Convert the 3 variable types to the same data type and then add them together to get the following values:\n",
    "  - `27` (1 pt)\n",
    "  - `27.9` (1 pt)\n",
    "  - `999.9` (1 pt)\n"
   ]
  },
  {
   "cell_type": "code",
   "execution_count": 15,
   "metadata": {},
   "outputs": [
    {
     "data": {
      "text/plain": [
       "'999.9'"
      ]
     },
     "execution_count": 15,
     "metadata": {},
     "output_type": "execute_result"
    }
   ],
   "source": [
    "# your answer here:\n",
    "a = 9\n",
    "b = 9.9\n",
    "c = \"9\"\n",
    "\n",
    "type(a) #int\n",
    "type(b) #float\n",
    "type(c) #str\n",
    "\n",
    "a + int(b) + int(c) #this equals 27\n",
    "\n",
    "float(9) + b + float(c) #this equals 27.9\n",
    "\n",
    "c + str(a) + str(b) #this equals 999.9"
   ]
  },
  {
   "cell_type": "markdown",
   "metadata": {},
   "source": [
    "## Question 3: Data structures (5 pt)\n",
    "\n",
    "- Create a dictionary with 3 keys called `'a'`, `'b'`, and `'c'`. The value for each key should be a blank list. (1 pt)\n",
    "- Append the list associated with key `a` with a blank set. (1 pt)\n",
    "- Append the list associated with key `b` with any 4 numbers. (1 pt)\n",
    "- Change the third item in the list associated with key `b` to be `1000`. (1 pt)\n",
    "- Print out the dictionary (1 pt)"
   ]
  },
  {
   "cell_type": "code",
   "execution_count": 104,
   "metadata": {},
   "outputs": [
    {
     "name": "stdout",
     "output_type": "stream",
     "text": [
      "[set()]\n",
      "[1, 2, 1000, 4]\n",
      "{'a': [set()], 'b': [1, 2, 1000, 4], 'c': []}\n"
     ]
    }
   ],
   "source": [
    "# your code here:\n",
    "my_list_a = list()\n",
    "my_list_b = list()\n",
    "my_list_c = list()\n",
    "my_set = set()\n",
    "\n",
    "my_dict = {'a': my_list_a, 'b': my_list_b, 'c': my_list_c}\n",
    "\n",
    "my_list_a.append(my_set)\n",
    "print(my_list_a)\n",
    "\n",
    "my_list_b = [1, 2, 3, 4]\n",
    "my_list_b[2] = 1000\n",
    "print(my_list_b)\n",
    "\n",
    "my_dict = {'a': my_list_a, 'b': my_list_b, 'c': my_list_c}\n",
    "print(my_dict)"
   ]
  },
  {
   "cell_type": "markdown",
   "metadata": {},
   "source": [
    "## Question 4: Transferring to different structure (5 pts)\n",
    "\n",
    "Some data was collected by 5 different researchers on deer population sizes. Below, this data was recorded with accompanying temperature data and dates in three lists. In each list, one researcher is associated with the same index.\n",
    "\n",
    "0. Haley McCann\n",
    "1. Siena Welch\n",
    "2. Jaylin Mercado\n",
    "3. Ismael Hayden\n",
    "4. Nina Bright\n",
    "\n",
    "Use the data across the three lists to create a dictionary storing each researcher's name and data as key:value pairs. Carefully consider how to best store the data as each value (4 pt).\n",
    "\n",
    "Retrieve the data from the lists using indexing; **do NOT** manually type the data into the dictionary. (1 pt)"
   ]
  },
  {
   "cell_type": "code",
   "execution_count": 101,
   "metadata": {},
   "outputs": [
    {
     "data": {
      "text/plain": [
       "[29.75, 442, '5/25/2022']"
      ]
     },
     "execution_count": 101,
     "metadata": {},
     "output_type": "execute_result"
    }
   ],
   "source": [
    "# don't modify the lists\n",
    "\n",
    "temperatures = [29.75, 12.63, 31.58, 7.16, 32.51]\n",
    "\n",
    "populations = [442, 336, 505, 913, 933]\n",
    "\n",
    "dates = ['5/25/2022','3/18/2022','6/28/2022','11/11/2022','7/6/2023']\n",
    "\n",
    "# your code below:\n",
    "Haley_data = [temperatures[0], populations[0], dates[0]]\n",
    "Siena_data = [temperatures[1], populations[1], dates[1]]\n",
    "Jaylin_data = [temperatures[2], populations[2], dates[2]]\n",
    "Ismael_data = [temperatures[3], populations[3], dates[3]]\n",
    "Nina_data = [temperatures[4], populations[4], dates[4]]\n",
    "\n",
    "DeerData = {'Haley': Haley_data, 'Siena': Siena_data, 'Jaylin': Jaylin_data, 'Ismael':Ismael_data, 'nina': Nina_data}\n",
    "DeerData['Haley']"
   ]
  },
  {
   "cell_type": "markdown",
   "metadata": {},
   "source": [
    "## Question 5: Booleans\n",
    "What is the value of each of the following statements? Explain why for each statement. (1 pt each)"
   ]
  },
  {
   "cell_type": "code",
   "execution_count": 23,
   "metadata": {},
   "outputs": [
    {
     "data": {
      "text/plain": [
       "0"
      ]
     },
     "execution_count": 23,
     "metadata": {},
     "output_type": "execute_result"
    }
   ],
   "source": [
    "# 1\n",
    "True and False #False because something cannot be both True AND False, so the statement itself is False\n",
    "\n",
    "# 2\n",
    "not True or False #False because True OR False would be True, but the NOT at the begining reverses things\n",
    "\n",
    "# 3\n",
    "True or False or True #True because True or False is True (times 2)\n",
    "\n",
    "# 4\n",
    "not (not True or not False) #False because (not True) means False \n",
    "                            #and (not False) means True, so the \n",
    "                            # inside of the parenthesis would be TRUE \n",
    "                            # (because True or False is True), but the \n",
    "                            # NOT outside the parenthesis makes the \n",
    "                            # whole statement False because Python uses \n",
    "                            # order of operations \n",
    "\n",
    "# 5\n",
    "int( not(10 > 5 and 2 < 3) ) #False because both statements inside the \n",
    "                            #parenthesis are True, but the not reverses things\n"
   ]
  },
  {
   "cell_type": "markdown",
   "metadata": {},
   "source": [
    "### Answers:"
   ]
  },
  {
   "cell_type": "markdown",
   "metadata": {},
   "source": [
    "## Question 6: Conditionals (5 pt)\n",
    " \n",
    "The following converts Celsius (C) to Farhenheit (F):\n",
    "\n",
    "$$F = (C * \\frac{9}{5}) + 32 $$\n",
    "\n",
    "You can convert Celsius (C) to Kelvin with the following (K).\n",
    "\n",
    "$$K = C - 273.15$$\n",
    "\n",
    "The lowest possible value in Celsius is -273.13, also known as absolute zero.\n",
    "\n",
    "Create a variable called `cel` set to be some number. It represents temperature in degrees Celsius. (1 pt)\n",
    "\n",
    "Create another variable called `convert`. Make it have either the value `'far'` or `'kel'`. (1 pt)\n",
    "\n",
    "Write code that does the following:\n",
    "\n",
    "If `cel` is below absolute zero, print out an error. Otherwise, convert the value in `cel` to Farhenheit if `convert` is `'far'` and to Kelvin if `convert` is `'kel'`. In both cases, print out the converted value. If `convert` has any other value, print a warning message saying that `convert` is not `'kel'` or `'far'`. (3 pt)"
   ]
  },
  {
   "cell_type": "code",
   "execution_count": 114,
   "metadata": {},
   "outputs": [
    {
     "name": "stdout",
     "output_type": "stream",
     "text": [
      "50.0\n"
     ]
    }
   ],
   "source": [
    "# your code here:\n",
    "cel = 10\n",
    "convert = 'far' or 'kel'\n",
    "\n",
    "if cel < -273.13:\n",
    "    print(ValueError)\n",
    "else:\n",
    "    if convert == 'far':\n",
    "        print((cel * (9/5)) + 32)\n",
    "    elif convert == 'kel':\n",
    "        print(cel + 273.15)\n",
    "    else:\n",
    "        print('Warning: convert is not kel or far')\n"
   ]
  }
 ],
 "metadata": {
  "kernelspec": {
   "display_name": "base",
   "language": "python",
   "name": "python3"
  },
  "language_info": {
   "codemirror_mode": {
    "name": "ipython",
    "version": 3
   },
   "file_extension": ".py",
   "mimetype": "text/x-python",
   "name": "python",
   "nbconvert_exporter": "python",
   "pygments_lexer": "ipython3",
   "version": "3.9.13"
  },
  "orig_nbformat": 4,
  "vscode": {
   "interpreter": {
    "hash": "8d19e4ec3b848b101d227617f33f07b2682a462f980d939ed2f0fc24addfdd46"
   }
  }
 },
 "nbformat": 4,
 "nbformat_minor": 2
}
