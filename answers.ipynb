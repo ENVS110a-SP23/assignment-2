{
 "cells": [
  {
   "cell_type": "markdown",
   "metadata": {},
   "source": [
    "# Assignment 2: Fundamentals of Python (30 pts)"
   ]
  },
  {
   "cell_type": "markdown",
   "metadata": {},
   "source": [
    "## Question 1: Markdown  (5 pts)\n",
    "\n",
    "Create a markdown cell below. Do the following tasks: \n",
    "\n",
    "- Display an image. (1 pt)\n",
    "- Write a caption for the image in italics. (1 pt)\n",
    "- Link a wikipedia page. (1 pt)\n",
    "- Write a bullet point list summarizing the page (don't be thorough, just want to see you make bullet points.) (1 pt)\n",
    "- Write an equation on its own line that includes a fraction and an exponent (e.g. 2 squared).\n"
   ]
  },
  {
   "attachments": {},
   "cell_type": "markdown",
   "metadata": {},
   "source": [
    "![image](thingy.JPG)\n",
    "*A picture of myself I guess*.\n",
    "[Wikipedia](https://en.wikipedia.org/wiki/League_of_Legends)\n",
    "\n",
    "- League of Legends is a multiplayer online battle arena (MOBA) game in which the player controls a character (\"champion\") with a set of unique abilities from an isometric perspective\n",
    "- League of Legends uses a free-to-play business model. Several forms of purely cosmetic customization—for example, \"skins\" that change the appearance of champions—can be acquired after buying an in-game currency called Riot Points (RP).\n",
    "- The game has been praised for its high production values, and has received numerous awards, including the Game Developers Choice Award for Best Online Multiplayer Game in 2012 and 2013, and the GameSpot Game of the Year award in 2013.\n",
    "<br>\n",
    "$$F = (\\frac{50}{100})^3 $$\n",
    "\n",
    "\n",
    "\n",
    "\n",
    "\n",
    "\n",
    "\n",
    "\n",
    "\n",
    "\n",
    "\n",
    "\n",
    "\n",
    "\n",
    "\n",
    "\n",
    "\n"
   ]
  },
  {
   "cell_type": "markdown",
   "metadata": {},
   "source": [
    "## Question 2: Data types and variables (5 pt)\n",
    "\n",
    "\n",
    "- Create 3 variables with the values of `9`, `9.9`, and `\"9\"` (1 pt).\n",
    "- Print out the data types of each variable (1 pt).\n",
    "- Convert the 3 variable types to the same data type and then add them together to get the following values:\n",
    "  - `27` (1 pt)\n",
    "  - `27.9` (1 pt)\n",
    "  - `999.9` (1 pt)\n"
   ]
  },
  {
   "cell_type": "code",
   "execution_count": 18,
   "metadata": {},
   "outputs": [
    {
     "name": "stdout",
     "output_type": "stream",
     "text": [
      "27\n",
      "27.9\n",
      "999.9\n"
     ]
    }
   ],
   "source": [
    "first = 9\n",
    "second = 9.9\n",
    "third = \"9\"\n",
    "\n",
    "fourth = first + int(second) + int(third)\n",
    "print(fourth)\n",
    "fifth = first + second + int(third)\n",
    "print(fifth)\n",
    "sixth = str(first) + third + str(second)\n",
    "print(sixth)\n"
   ]
  },
  {
   "cell_type": "markdown",
   "metadata": {},
   "source": [
    "## Question 3: Data structures (5 pt)\n",
    "\n",
    "- Create a dictionary with 3 keys called `'a'`, `'b'`, and `'c'`. The value for each key should be a blank list. (1 pt)\n",
    "- Append the list associated with key `a` with a blank set. (1 pt)\n",
    "- Append the list associated with key `b` with any 4 numbers. (1 pt)\n",
    "- Change the third item in the list associated with key `b` to be `1000`. (1 pt)\n",
    "- Print out the dictionary (1 pt)"
   ]
  },
  {
   "cell_type": "code",
   "execution_count": 19,
   "metadata": {},
   "outputs": [
    {
     "name": "stdout",
     "output_type": "stream",
     "text": [
      "{'a': [[]], 'b': [1, 2, 1000, 4], 'c': []}\n"
     ]
    }
   ],
   "source": [
    "dict = { 'a' :[] , 'b': [] , 'c': [] }\n",
    "dict['a'].append([])\n",
    "dict['b'].append(1)\n",
    "dict['b'].append(2)\n",
    "dict['b'].append(3)\n",
    "dict['b'].append(4)\n",
    "dict['b'][2] = 1000\n",
    "print(dict)\n",
    "\n"
   ]
  },
  {
   "cell_type": "markdown",
   "metadata": {},
   "source": [
    "## Question 4: Transferring to different structure (5 pts)\n",
    "\n",
    "Some data was collected by 5 different researchers on deer population sizes. Below, this data was recorded with accompanying temperature data and dates in three lists. In each list, one researcher is associated with the same index.\n",
    "\n",
    "0. Haley McCann\n",
    "1. Siena Welch\n",
    "2. Jaylin Mercado\n",
    "3. Ismael Hayden\n",
    "4. Nina Bright\n",
    "\n",
    "Use the data across the three lists to create a dictionary storing each researcher's name and data as key:value pairs. Carefully consider how to best store the data as each value (4 pt).\n",
    "\n",
    "Retrieve the data from the lists using indexing; **do NOT** manually type the data into the dictionary. (1 pt)"
   ]
  },
  {
   "cell_type": "code",
   "execution_count": 20,
   "metadata": {},
   "outputs": [
    {
     "name": "stdout",
     "output_type": "stream",
     "text": [
      "{'Haley McCann': {442, '5/25/2022', 29.75}, 'Siena Welch': {336, '3/18/2022', 12.63}, 'Jatlin Mercado': {505, '6/28/2022', 31.58}, 'Nina Bright': {913, 7.16, '11/11/2022'}}\n"
     ]
    }
   ],
   "source": [
    "# don't modify the lists\n",
    "\n",
    "temperatures = [29.75, 12.63, 31.58, 7.16, 32.51]\n",
    "\n",
    "populations = [442, 336, 505, 913, 933]\n",
    "\n",
    "dates = ['5/25/2022','3/18/2022','6/28/2022','11/11/2022','7/6/2023']\n",
    "\n",
    "# your code below:\n",
    "thisdict = {\n",
    "    \"Haley McCann\": {dates[0], populations[0], temperatures[0]},\n",
    "    \"Siena Welch\": {dates[1], populations[1], temperatures[1]},\n",
    "    \"Jatlin Mercado\": {dates[2], populations[2], temperatures[2]},\n",
    "    \"Nina Bright\": {dates[3], populations[3], temperatures[3]},\n",
    "}\n",
    "print(thisdict)\n"
   ]
  },
  {
   "cell_type": "markdown",
   "metadata": {},
   "source": [
    "## Question 5: Booleans\n",
    "What is the value of each of the following statements? Explain why for each statement. (1 pt each)"
   ]
  },
  {
   "cell_type": "code",
   "execution_count": 21,
   "metadata": {},
   "outputs": [
    {
     "data": {
      "text/plain": [
       "0"
      ]
     },
     "execution_count": 21,
     "metadata": {},
     "output_type": "execute_result"
    }
   ],
   "source": [
    "# 1 Answer: False because A statement can't be both true and false\n",
    "True and False\n",
    "\n",
    "\n",
    "# 2 Answer: False because A statement can't be False or False\n",
    "not True or False\n",
    "\n",
    "# 3 True because there's two trues in the statement with or\n",
    "True or False or True \n",
    "\n",
    "# 4 False beause within the parathesis it's True or False which is true, but the not makes it false\n",
    "not (not True or not False)\n",
    "\n",
    "# 5 0 because False turns into 0 \n",
    "int( not(10 > 5 and 2 < 3) )\n",
    "\n"
   ]
  },
  {
   "cell_type": "markdown",
   "metadata": {},
   "source": [
    "### Answers:"
   ]
  },
  {
   "cell_type": "markdown",
   "metadata": {},
   "source": [
    "## Question 6: Conditionals (5 pt)\n",
    " \n",
    "The following converts Celsius (C) to Farhenheit (F):\n",
    "\n",
    "$$F = (C * \\frac{9}{5}) + 32 $$\n",
    "\n",
    "You can convert Celsius (C) to Kelvin with the following (K).\n",
    "\n",
    "$$K = C - 273.15$$\n",
    "\n",
    "The lowest possible value in Celsius is -273.13, also known as absolute zero.\n",
    "\n",
    "Create a variable called `cel` set to be some number. It represents temperature in degrees Celsius. (1 pt)\n",
    "\n",
    "Create another variable called `convert`. Make it have either the value `'far'` or `'kel'`. (1 pt)\n",
    "\n",
    "Write code that does the following:\n",
    "\n",
    "If `cel` is below absolute zero, print out an error. Otherwise, convert the value in `cel` to Farhenheit if `convert` is `'far'` and to Kelvin if `convert` is `'kel'`. In both cases, print out the converted value. If `convert` has any other value, print a warning message saying that `convert` is not `'kel'` or `'far'`. (3 pt)"
   ]
  },
  {
   "cell_type": "code",
   "execution_count": 22,
   "metadata": {},
   "outputs": [
    {
     "name": "stdout",
     "output_type": "stream",
     "text": [
      "32.0 degrees Fahrenheit\n"
     ]
    }
   ],
   "source": [
    "cel = 0 # Example value, replace with desired temperature in Celsius\n",
    "convert = 'far' # Example value, replace with 'far' or 'kel'\n",
    "\n",
    "if cel < -273.15:\n",
    "    print(\"Error: Temperature is below absolute zero.\")\n",
    "elif convert == 'far':\n",
    "    fah = (cel * 9/5) + 32\n",
    "    print(fah, \"degrees Fahrenheit\")\n",
    "elif convert == 'kel':\n",
    "    kel = cel + 273.15\n",
    "    print(kel, \"Kelvin\")\n",
    "else:\n",
    "    print(\"Warning: Convert should be 'far' or 'kel'.\")\n",
    "\n",
    "\n"
   ]
  }
 ],
 "metadata": {
  "kernelspec": {
   "display_name": "Python 3",
   "language": "python",
   "name": "python3"
  },
  "language_info": {
   "codemirror_mode": {
    "name": "ipython",
    "version": 3
   },
   "file_extension": ".py",
   "mimetype": "text/x-python",
   "name": "python",
   "nbconvert_exporter": "python",
   "pygments_lexer": "ipython3",
   "version": "3.10.7"
  },
  "orig_nbformat": 4,
  "vscode": {
   "interpreter": {
    "hash": "bcb2b303fb833e79a98435d1c79cf594f7fa9db9cab7d8af03f009abc45d69f6"
   }
  }
 },
 "nbformat": 4,
 "nbformat_minor": 2
}
