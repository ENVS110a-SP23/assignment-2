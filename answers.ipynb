{
 "cells": [
  {
   "cell_type": "markdown",
   "metadata": {},
   "source": [
    "# Assignment 2: Fundamentals of Python (30 pts)"
   ]
  },
  {
   "cell_type": "markdown",
   "metadata": {},
   "source": [
    "## Question 1: Markdown  (5 pts)\n",
    "\n",
    "Create a markdown cell below. Do the following tasks: \n",
    "\n",
    "- Display an image. (1 pt)\n",
    "- Write a caption for the image in italics. (1 pt)\n",
    "- Link a wikipedia page. (1 pt)\n",
    "- Write a bullet point list summarizing the page (don't be thorough, just want to see you make bullet points.) (1 pt)\n",
    "- Write an equation on its own line that includes a fraction and an exponent (e.g. 2 squared).\n"
   ]
  },
  {
   "attachments": {},
   "cell_type": "markdown",
   "metadata": {},
   "source": [
    "1. ![Joe Biden Ice Cream](https://pyxis.nymag.com/v1/imgs/0b8/596/731a1ed688b6b2bc3be27147e9c08dde6a-10-joe-biden-ice-cream.2x.rvertical.w330.jpg)\n",
    "2. *Joe Biden Ice Cream*\n",
    "3. [wikipedia page](https://en.wikipedia.org/wiki/Community_Choice_Aggregation)\n",
    "4. \n",
    "- CCA stands for Community Choice Aggregation \n",
    "- It saved people money\n",
    "- It makes electricity generation cleaner\n",
    "5. $$ \\frac{(3x+4)^2}{5} = \\ y^3 $$\n"
   ]
  },
  {
   "cell_type": "markdown",
   "metadata": {},
   "source": []
  },
  {
   "cell_type": "markdown",
   "metadata": {},
   "source": [
    "## Question 2: Data types and variables (5 pt)\n",
    "\n",
    "\n",
    "- Create 3 variables with the values of `9`, `9.9`, and `\"9\"` (1 pt).\n",
    "- Print out the data types of each variable (1 pt).\n",
    "- Convert the 3 variable types to the same data type and then add them together to get the following values:\n",
    "  - `27` (1 pt)\n",
    "  - `27.9` (1 pt)\n",
    "  - `999.9` (1 pt)\n"
   ]
  },
  {
   "cell_type": "code",
   "execution_count": 10,
   "metadata": {},
   "outputs": [
    {
     "name": "stdout",
     "output_type": "stream",
     "text": [
      "<class 'int'>\n",
      "<class 'float'>\n",
      "<class 'str'>\n",
      "27\n",
      "27.9\n",
      "999.9\n"
     ]
    }
   ],
   "source": [
    "# your answer here:\n",
    "x = 9\n",
    "y = 9.9\n",
    "z = \"9\"\n",
    "\n",
    "print(type(x))  # int\n",
    "print(type(y))  # float\n",
    "print(type(z))  # str\n",
    "\n",
    "print(x+int(y)+int(z))\n",
    "print(float(x)+y+float(z))\n",
    "print(str(x)+z+str(y))\n",
    "\n"
   ]
  },
  {
   "cell_type": "markdown",
   "metadata": {},
   "source": [
    "## Question 3: Data structures (5 pt)\n",
    "\n",
    "- Create a dictionary with 3 keys called `'a'`, `'b'`, and `'c'`. The value for each key should be a blank list. (1 pt)\n",
    "- Append the list associated with key `a` with a blank set. (1 pt)\n",
    "- Append the list associated with key `b` with any 4 numbers. (1 pt)\n",
    "- Change the third item in the list associated with key `b` to be `1000`. (1 pt)\n",
    "- Print out the dictionary (1 pt)"
   ]
  },
  {
   "cell_type": "code",
   "execution_count": 16,
   "metadata": {},
   "outputs": [
    {
     "name": "stdout",
     "output_type": "stream",
     "text": [
      "{'a': [], 'b': [1, 2, 1000, 4], 'c': []}\n"
     ]
    }
   ],
   "source": [
    "# your code here:\n",
    "my_dict = {\"a\":[], 'b':[], \"c\":[]}\n",
    "my_dict[\"a\"] += {}\n",
    "my_dict['b']+= [1,2,3,4]\n",
    "list_b = my_dict[\"b\"]\n",
    "list_b[2] = 1000\n",
    "print(my_dict)"
   ]
  },
  {
   "cell_type": "markdown",
   "metadata": {},
   "source": [
    "## Question 4: Transferring to different structure (5 pts)\n",
    "\n",
    "Some data was collected by 5 different researchers on deer population sizes. Below, this data was recorded with accompanying temperature data and dates in three lists. In each list, one researcher is associated with the same index.\n",
    "\n",
    "0. Haley McCann\n",
    "1. Siena Welch\n",
    "2. Jaylin Mercado\n",
    "3. Ismael Hayden\n",
    "4. Nina Bright\n",
    "\n",
    "Use the data across the three lists to create a dictionary storing each researcher's name and data as key:value pairs. Carefully consider how to best store the data as each value (4 pt).\n",
    "\n",
    "Retrieve the data from the lists using indexing; **do NOT** manually type the data into the dictionary. (1 pt)"
   ]
  },
  {
   "cell_type": "code",
   "execution_count": 20,
   "metadata": {},
   "outputs": [
    {
     "data": {
      "text/plain": [
       "{'H': (29.75, 442, '5/25/2022'),\n",
       " 'S': (12.63, 336, '3/18/2022'),\n",
       " 'J': (31.58, 505, '6/28/2022'),\n",
       " 'I': (7.16, 913, '11/11/2022'),\n",
       " 'N': (32.51, 933, '7/6/2023')}"
      ]
     },
     "execution_count": 20,
     "metadata": {},
     "output_type": "execute_result"
    }
   ],
   "source": [
    "# don't modify the lists\n",
    "\n",
    "temperatures = [29.75, 12.63, 31.58, 7.16, 32.51]\n",
    "\n",
    "populations = [442, 336, 505, 913, 933]\n",
    "\n",
    "dates = ['5/25/2022','3/18/2022','6/28/2022','11/11/2022','7/6/2023']\n",
    "\n",
    "# your code below:\n",
    "\n",
    "new_dict ={\"H\": (temperatures[0], populations[0], dates[0]), \"S\": (temperatures[1], populations[1], dates[1]), \"J\": (temperatures[2], populations[2], dates[2]), \"I\": (temperatures[3], populations[3], dates[3]), \"N\": (temperatures[4], populations[4], dates[4])}\n",
    "new_dict"
   ]
  },
  {
   "cell_type": "markdown",
   "metadata": {},
   "source": [
    "## Question 5: Booleans\n",
    "What is the value of each of the following statements? Explain why for each statement. (1 pt each)"
   ]
  },
  {
   "cell_type": "code",
   "execution_count": 5,
   "metadata": {},
   "outputs": [
    {
     "data": {
      "text/plain": [
       "0"
      ]
     },
     "execution_count": 5,
     "metadata": {},
     "output_type": "execute_result"
    }
   ],
   "source": [
    "# 1\n",
    "True and False\n",
    "# this returns False because\n",
    "\n",
    "# 2\n",
    "not True or False\n",
    "#false\n",
    "\n",
    "# 3\n",
    "True or False or True\n",
    "#true\n",
    "\n",
    "# 4\n",
    "not (not True or not False)\n",
    "#false\n",
    "\n",
    "# 5\n",
    "int( not(10 > 5 and 2 < 3) )\n",
    "#this returns 0 because the interior expressions returns True but then is converted\n",
    "#to false by the not function and then false as an int is 0\n",
    "\n"
   ]
  },
  {
   "cell_type": "markdown",
   "metadata": {},
   "source": [
    "### Answers:"
   ]
  },
  {
   "attachments": {},
   "cell_type": "markdown",
   "metadata": {},
   "source": [
    "## Question 6: Conditionals (5 pt)\n",
    " \n",
    "The following converts Celsius (C) to Farhenheit (F):\n",
    "\n",
    "$$F = (C * \\frac{9}{5}) + 32 $$\n",
    "\n",
    "You can convert Celsius (C) to Kelvin with the following (K).\n",
    "\n",
    "$$K = C + 273.15$$\n",
    "\n",
    "The lowest possible value in Celsius is -273.13, also known as absolute zero.\n",
    "\n",
    "Create a variable called `cel` set to be some number. It represents temperature in degrees Celsius. (1 pt)\n",
    "\n",
    "Create another variable called `convert`. Make it have either the value `'far'` or `'kel'`. (1 pt)\n",
    "\n",
    "Write code that does the following:\n",
    "\n",
    "If `cel` is below absolute zero, print out an error. Otherwise, convert the value in `cel` to Farhenheit if `convert` is `'far'` and to Kelvin if `convert` is `'kel'`. In both cases, print out the converted value. If `convert` has any other value, print a warning message saying that `convert` is not `'kel'` or `'far'`. (3 pt)"
   ]
  },
  {
   "cell_type": "code",
   "execution_count": 41,
   "metadata": {},
   "outputs": [
    {
     "name": "stdout",
     "output_type": "stream",
     "text": [
      "50.0\n"
     ]
    }
   ],
   "source": [
    "# your code here:\n",
    "\n",
    "cel = 10\n",
    "convert = ('far' or 'kel')\n",
    "\n",
    "if cel < -273.13:\n",
    "    print('error')\n",
    "elif cel > -273.13:\n",
    "    if convert == 'far':\n",
    "        print((cel*9/5)+32)\n",
    "    if convert == 'kel':\n",
    "        print(cel + 273.15)\n",
    "    elif not convert == ('far' or 'kel'):\n",
    "        print('convert is not kel or far')\n",
    "\n",
    "\n",
    "\n",
    "\n"
   ]
  }
 ],
 "metadata": {
  "kernelspec": {
   "display_name": "base",
   "language": "python",
   "name": "python3"
  },
  "language_info": {
   "codemirror_mode": {
    "name": "ipython",
    "version": 3
   },
   "file_extension": ".py",
   "mimetype": "text/x-python",
   "name": "python",
   "nbconvert_exporter": "python",
   "pygments_lexer": "ipython3",
   "version": "3.9.13"
  },
  "orig_nbformat": 4,
  "vscode": {
   "interpreter": {
    "hash": "ae29617bea8f47f2c71efa16d7ee3b6ec13e675cfe11ec952d7ef8313b23de69"
   }
  }
 },
 "nbformat": 4,
 "nbformat_minor": 2
}
