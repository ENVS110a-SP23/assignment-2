{
 "cells": [
  {
   "cell_type": "markdown",
   "metadata": {},
   "source": [
    "# Assignment 2: Fundamentals of Python (30 pts)"
   ]
  },
  {
   "cell_type": "markdown",
   "metadata": {},
   "source": [
    "## Question 1: Markdown  (5 pts)\n",
    "\n",
    "Create a markdown cell below. Do the following tasks: \n",
    "\n",
    "- Display an image. (1 pt)\n",
    "- Write a caption for the image in italics. (1 pt)\n",
    "- Link a wikipedia page. (1 pt)\n",
    "- Write a bullet point list summarizing the page (don't be thorough, just want to see you make bullet points.) (1 pt)\n",
    "- Write an equation on its own line that includes a fraction and an exponent (e.g. 2 squared).\n"
   ]
  },
  {
   "attachments": {},
   "cell_type": "markdown",
   "metadata": {},
   "source": [
    "![An image](https://i.pinimg.com/originals/0c/7b/a0/0c7ba0a7f5a817a2765147d9066c7122.jpg)\n",
    "\n",
    "*Me doing anything*\n",
    "\n",
    "[Yuzuru Hanyu's Career Achievements](https://en.wikipedia.org/wiki/List_of_career_achievements_by_Yuzuru_Hanyu)\n",
    "- 7 world records since the -5/+5 GOE scoring method was adapted\n",
    "- 15 \"first\" records in scores and other categories\n",
    "- 6 \"first\" records in technical elements of figure skating\n",
    "\n",
    "$$(3/2)^5"
   ]
  },
  {
   "cell_type": "markdown",
   "metadata": {},
   "source": [
    "## Question 2: Data types and variables (5 pt)\n",
    "\n",
    "\n",
    "- Create 3 variables with the values of `9`, `9.9`, and `\"9\"` (1 pt).\n",
    "- Print out the data types of each variable (1 pt).\n",
    "- Convert the 3 variable types to the same data type and then add them together to get the following values:\n",
    "  - `27` (1 pt)\n",
    "  - `27.9` (1 pt)\n",
    "  - `999.9` (1 pt)\n"
   ]
  },
  {
   "cell_type": "code",
   "execution_count": 23,
   "metadata": {},
   "outputs": [
    {
     "data": {
      "text/plain": [
       "'999.9'"
      ]
     },
     "execution_count": 23,
     "metadata": {},
     "output_type": "execute_result"
    }
   ],
   "source": [
    "# your answer here:\n",
    "x = 9\n",
    "y = 9.9 \n",
    "z = \"9\"\n",
    "type(x), type(y), type(z)\n",
    "\n",
    "int(z) + int(y) + x\n",
    "\n",
    "float(z) + float(x) + y\n",
    "\n",
    "z + str(x) + str(y)\n"
   ]
  },
  {
   "cell_type": "markdown",
   "metadata": {},
   "source": [
    "## Question 3: Data structures (5 pt)\n",
    "\n",
    "- Create a dictionary with 3 keys called `'a'`, `'b'`, and `'c'`. The value for each key should be a blank list. (1 pt)\n",
    "- Append the list associated with key `a` with a blank set. (1 pt)\n",
    "- Append the list associated with key `b` with any 4 numbers. (1 pt)\n",
    "- Change the third item in the list associated with key `b` to be `1000`. (1 pt)\n",
    "- Print out the dictionary (1 pt)"
   ]
  },
  {
   "cell_type": "code",
   "execution_count": 1,
   "metadata": {},
   "outputs": [
    {
     "name": "stdout",
     "output_type": "stream",
     "text": [
      "{'a': [set()], 'b': [1, 2, 1000, 4], 'c': []}\n"
     ]
    }
   ],
   "source": [
    "# your code here:\n",
    "dictionary = {'a':list(), 'b':list(), 'c':list()}\n",
    "\n",
    "blank_set = set()\n",
    "\n",
    "dictionary['a'].append(blank_set)\n",
    "\n",
    "dictionary['b'].extend((1,2,3,4))\n",
    "\n",
    "dictionary['b'][2] = 1000\n",
    "\n",
    "print(dictionary)\n"
   ]
  },
  {
   "attachments": {},
   "cell_type": "markdown",
   "metadata": {},
   "source": [
    "## Question 4: Transferring to different structure (5 pts)\n",
    "\n",
    "Some data was collected by 5 different researchers on deer population sizes. Below, this data was recorded with accompanying temperature data and dates in three lists. In each list, one researcher is associated with the same index.\n",
    "\n",
    "0. Haley McCann\n",
    "1. Siena Welch\n",
    "2. Jaylin Mercado\n",
    "3. Ismael Hayden\n",
    "4. Nina Bright\n",
    "\n",
    "\n",
    "\n",
    "Retrieve the data from the lists using indexing; **do NOT** manually type the data into the dictionary. (1 pt)"
   ]
  },
  {
   "cell_type": "code",
   "execution_count": 2,
   "metadata": {},
   "outputs": [
    {
     "data": {
      "text/plain": [
       "{'Haley_McCann': {'temp': 29.75, 'pop': 442, 'date': '5/25/2022'},\n",
       " 'Siena_Welch': {'temp': 12.63, 'pop': 336, 'date': '3/18/2022'},\n",
       " 'Jaylin_Mercado': {'temp': 31.58, 'pop': 505, 'date': '6/28/2022'},\n",
       " 'Ismael_Hayden': {'temp': 7.16, 'pop': 913, 'date': '11/11/2022'},\n",
       " 'Nina_Bright': {'temp': 32.51, 'pop': 933, 'date': '7/6/2023'}}"
      ]
     },
     "execution_count": 2,
     "metadata": {},
     "output_type": "execute_result"
    }
   ],
   "source": [
    "# don't modify the lists\n",
    "\n",
    "temperatures = [29.75, 12.63, 31.58, 7.16, 32.51]\n",
    "\n",
    "populations = [442, 336, 505, 913, 933]\n",
    "\n",
    "dates = ['5/25/2022','3/18/2022','6/28/2022','11/11/2022','7/6/2023']\n",
    "\n",
    "# your code below:\n",
    "\n",
    "McCann = {'temp':temperatures[0],'pop':populations[0],'date':dates[0]}\n",
    "Welch = {'temp':temperatures[1],'pop':populations[1],'date':dates[1]}\n",
    "Mercado = {'temp':temperatures[2],'pop':populations[2],'date':dates[2]}\n",
    "Hayden = {'temp':temperatures[3],'pop':populations[3],'date':dates[3]}\n",
    "Bright = {'temp':temperatures[4],'pop':populations[4],'date':dates[4]}\n",
    "\n",
    "massdata = {'Haley_McCann':McCann, 'Siena_Welch':Welch, 'Jaylin_Mercado':Mercado, 'Ismael_Hayden':Hayden, 'Nina_Bright':Bright}\n",
    "\n",
    "massdata\n",
    "\n"
   ]
  },
  {
   "cell_type": "markdown",
   "metadata": {},
   "source": [
    "## Question 5: Booleans\n",
    "What is the value of each of the following statements? Explain why for each statement. (1 pt each)"
   ]
  },
  {
   "cell_type": "code",
   "execution_count": 2,
   "metadata": {},
   "outputs": [
    {
     "data": {
      "text/plain": [
       "0"
      ]
     },
     "execution_count": 2,
     "metadata": {},
     "output_type": "execute_result"
    }
   ],
   "source": [
    "# 1\n",
    "True and False\n",
    "\n",
    "# False because a situation cannot be both true and false\n",
    "\n",
    "# 2\n",
    "not True or False\n",
    "\n",
    "# False because \"not True\" translates to False too\n",
    "\n",
    "# 3\n",
    "True or False or True\n",
    "\n",
    "# True because a situation can be True or False\n",
    "\n",
    "# 4\n",
    "not (not True or not False)\n",
    "\n",
    "# False because the 'not' turns it into the inverse, so while the answer in the parentheses is True the answer is turned to False\n",
    "\n",
    "# 5\n",
    "int( not(10 > 5 and 2 < 3) )\n",
    "\n",
    "# 0 because the answer inside int() would be False (as the answer inside not() would be True and \"not\" would turn it into False) and int() would\n",
    "# change it to a numerical equivalent (which would be 0)"
   ]
  },
  {
   "cell_type": "markdown",
   "metadata": {},
   "source": [
    "### Answers:"
   ]
  },
  {
   "attachments": {},
   "cell_type": "markdown",
   "metadata": {},
   "source": [
    "## Question 6: Conditionals (5 pt)\n",
    " \n",
    "The following converts Celsius (C) to Farhenheit (F):\n",
    "\n",
    "$$F = (C * \\frac{9}{5}) + 32 $$\n",
    "\n",
    "You can convert Celsius (C) to Kelvin with the following (K).\n",
    "\n",
    "$$K = C + 273.15$$\n",
    "\n",
    "The lowest possible value in Celsius is -273.13, also known as absolute zero.\n",
    "\n",
    "Create a variable called `cel` set to be some number. It represents temperature in degrees Celsius. (1 pt)\n",
    "\n",
    "Create another variable called `convert`. Make it have either the value `'far'` or `'kel'`. (1 pt)\n",
    "\n",
    "Write code that does the following:\n",
    "\n",
    "If `cel` is below absolute zero, print out an error. Otherwise, convert the value in `cel` to Farhenheit if `convert` is `'far'` and to Kelvin if `convert` is `'kel'`. In both cases, print out the converted value. If `convert` has any other value, print a warning message saying that `convert` is not `'kel'` or `'far'`. (3 pt)"
   ]
  },
  {
   "cell_type": "code",
   "execution_count": 2,
   "metadata": {},
   "outputs": [
    {
     "name": "stdout",
     "output_type": "stream",
     "text": [
      "0.14999999999997726\n"
     ]
    }
   ],
   "source": [
    "# your code here:\n",
    "\n",
    "cel = -273\n",
    "convert = 'kel'\n",
    "\n",
    "if cel < -273.13:\n",
    "    print('Error: impossible value')\n",
    "\n",
    "else: \n",
    "    if convert == 'far':\n",
    "        f = (cel*(9/5)) + 32\n",
    "        print(f)\n",
    "    \n",
    "    elif convert == 'kel':\n",
    "        k = cel + 273.15\n",
    "        print(k)\n",
    "    else:\n",
    "        print(\"Error: convert not 'kel' or 'far'\")"
   ]
  }
 ],
 "metadata": {
  "kernelspec": {
   "display_name": "base",
   "language": "python",
   "name": "python3"
  },
  "language_info": {
   "codemirror_mode": {
    "name": "ipython",
    "version": 3
   },
   "file_extension": ".py",
   "mimetype": "text/x-python",
   "name": "python",
   "nbconvert_exporter": "python",
   "pygments_lexer": "ipython3",
   "version": "3.9.13"
  },
  "orig_nbformat": 4,
  "vscode": {
   "interpreter": {
    "hash": "84349e855ef23e8a04205203a3f0b9b891bef91d7306ccc3746bac7311e7d918"
   }
  }
 },
 "nbformat": 4,
 "nbformat_minor": 2
}
