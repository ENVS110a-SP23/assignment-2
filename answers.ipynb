{
 "cells": [
  {
   "cell_type": "markdown",
   "metadata": {},
   "source": [
    "# Assignment 2: Fundamentals of Python (30 pts)"
   ]
  },
  {
   "cell_type": "markdown",
   "metadata": {},
   "source": [
    "## Question 1: Markdown  (5 pts)\n",
    "\n",
    "Create a markdown cell below. Do the following tasks: \n",
    "\n",
    "- Display an image. (1 pt)\n",
    "- Write a caption for the image in italics. (1 pt)\n",
    "- Link a wikipedia page. (1 pt)\n",
    "- Write a bullet point list summarizing the page (don't be thorough, just want to see you make bullet points.) (1 pt)\n",
    "- Write an equation on its own line that includes a fraction and an exponent (e.g. 2 squared).\n"
   ]
  },
  {
   "attachments": {},
   "cell_type": "markdown",
   "metadata": {},
   "source": [
    "![puppy photo](https://hips.hearstapps.com/hmg-prod/images/dog-puns-1581708208.jpg)\n",
    "*italics*\n",
    "[puppy wiki](https://en.wikipedia.org/wiki/Puppy)\n",
    "- puppy development\n",
    "- puppy socialization\n",
    "- puppy docking and declawing\n",
    "- gallery\n",
    "$$ \\frac{1}{2}=\\sqrt{2^2} $$"
   ]
  },
  {
   "cell_type": "markdown",
   "metadata": {},
   "source": [
    "## Question 2: Data types and variables (5 pt)\n",
    "\n",
    "\n",
    "- Create 3 variables with the values of `9`, `9.9`, and `\"9\"` (1 pt).\n",
    "- Print out the data types of each variable (1 pt).\n",
    "- Convert the 3 variable types to the same data type and then add them together to get the following values:\n",
    "  - `27` (1 pt)\n",
    "  - `27.9` (1 pt)\n",
    "  - `999.9` (1 pt)\n"
   ]
  },
  {
   "cell_type": "code",
   "execution_count": 4,
   "metadata": {},
   "outputs": [
    {
     "name": "stdout",
     "output_type": "stream",
     "text": [
      "<class 'int'>\n",
      "<class 'float'>\n",
      "<class 'str'>\n",
      "27\n",
      "27.9\n",
      "999.9\n"
     ]
    }
   ],
   "source": [
    "# your answer here:\n",
    "integer=9\n",
    "float=9.9\n",
    "text=\"9\"\n",
    "print(type(integer))\n",
    "print(type(float))\n",
    "print(type(text))\n",
    "print(integer+int(float)+int(text))\n",
    "print(integer+float+int(text))\n",
    "print(str(integer)+str(text)+str(float))"
   ]
  },
  {
   "cell_type": "markdown",
   "metadata": {},
   "source": [
    "## Question 3: Data structures (5 pt)\n",
    "\n",
    "- Create a dictionary with 3 keys called `'a'`, `'b'`, and `'c'`. The value for each key should be a blank list. (1 pt)\n",
    "- Append the list associated with key `a` with a blank set. (1 pt)\n",
    "- Append the list associated with key `b` with any 4 numbers. (1 pt)\n",
    "- Change the third item in the list associated with key `b` to be `1000`. (1 pt)\n",
    "- Print out the dictionary (1 pt)"
   ]
  },
  {
   "cell_type": "code",
   "execution_count": 14,
   "metadata": {},
   "outputs": [
    {
     "name": "stdout",
     "output_type": "stream",
     "text": [
      "{'a': {}, 'b': [1, 2, 1000, 4], 'c': []}\n"
     ]
    }
   ],
   "source": [
    "# your code here:\n",
    "dic={'a':[],'b':[],'c':[]}\n",
    "dic['a']=dict()\n",
    "dic['b']=[1,2,3,4]\n",
    "dic['b'][2]=1000\n",
    "print(dic)"
   ]
  },
  {
   "cell_type": "markdown",
   "metadata": {},
   "source": [
    "## Question 4: Transferring to different structure (5 pts)\n",
    "\n",
    "Some data was collected by 5 different researchers on deer population sizes. Below, this data was recorded with accompanying temperature data and dates in three lists. In each list, one researcher is associated with the same index.\n",
    "\n",
    "0. Haley McCann\n",
    "1. Siena Welch\n",
    "2. Jaylin Mercado\n",
    "3. Ismael Hayden\n",
    "4. Nina Bright\n",
    "\n",
    "Use the data across the three lists to create a dictionary storing each researcher's name and data as key:value pairs. Carefully consider how to best store the data as each value (4 pt).\n",
    "\n",
    "Retrieve the data from the lists using indexing; **do NOT** manually type the data into the dictionary. (1 pt)"
   ]
  },
  {
   "cell_type": "code",
   "execution_count": 18,
   "metadata": {},
   "outputs": [
    {
     "name": "stdout",
     "output_type": "stream",
     "text": [
      "{'Haley McCann': {'temperatures': 29.75, 'population': 442, 'dates': '5/25/2022'}, 'Siena Welch': {'temperatures': 12.63, 'populations': 336, 'dates': '3/18/2022'}, 'Jaylin Mercado': {'temperatures': 31.58, 'populations': 505, 'dates': '6/28/2022'}, 'Ismael Hayden': {'temperatures': 7.16, 'populations': 913, 'dates': '11/11/2022'}, 'Nina Bright': {'temperatures': 32.51, 'populations': 933, 'dates': '7/6/2023'}}\n"
     ]
    }
   ],
   "source": [
    "# don't modify the lists\n",
    "\n",
    "temperatures = [29.75, 12.63, 31.58, 7.16, 32.51]\n",
    "\n",
    "populations = [442, 336, 505, 913, 933]\n",
    "\n",
    "dates = ['5/25/2022','3/18/2022','6/28/2022','11/11/2022','7/6/2023']\n",
    "\n",
    "# your code below:\n",
    "HaleyMcCann={'temperatures':temperatures[0], 'population':populations[0],'dates':dates[0]}\n",
    "SienaWelch={'temperatures':temperatures[1],'populations':populations[1],'dates':dates[1]}\n",
    "JaylinMercado={'temperatures':temperatures[2],'populations':populations[2],'dates':dates[2]}\n",
    "IsmaelHayden={'temperatures':temperatures[3],'populations':populations[3],'dates':dates[3]}\n",
    "NinaBright={'temperatures':temperatures[4],'populations':populations[4],'dates':dates[4]}\n",
    "data={'Haley McCann':HaleyMcCann,'Siena Welch':SienaWelch,'Jaylin Mercado':JaylinMercado,'Ismael Hayden':IsmaelHayden,'Nina Bright':NinaBright}\n",
    "print(data)\n",
    "\n"
   ]
  },
  {
   "cell_type": "markdown",
   "metadata": {},
   "source": [
    "## Question 5: Booleans\n",
    "What is the value of each of the following statements? Explain why for each statement. (1 pt each)"
   ]
  },
  {
   "cell_type": "code",
   "execution_count": 1,
   "metadata": {},
   "outputs": [
    {
     "data": {
      "text/plain": [
       "0"
      ]
     },
     "execution_count": 1,
     "metadata": {},
     "output_type": "execute_result"
    }
   ],
   "source": [
    "# 1\n",
    "True and False\n",
    "\n",
    "# 2\n",
    "not True or False\n",
    "\n",
    "# 3\n",
    "True or False or True\n",
    "\n",
    "# 4\n",
    "not (not True or not False)\n",
    "\n",
    "# 5\n",
    "int( not(10 > 5 and 2 < 3) )\n"
   ]
  },
  {
   "cell_type": "markdown",
   "metadata": {},
   "source": [
    "### Answers:"
   ]
  },
  {
   "attachments": {},
   "cell_type": "markdown",
   "metadata": {},
   "source": [
    "#1: False, because both have to be True for an 'and' condition to be True\n",
    "\n",
    "#2:False, because not True=False, False or False = False\n",
    "\n",
    "#3:True, because or only needs one of them to be True, so True or False =True, True or True =True\n",
    "\n",
    "#4:False, because not True =False, not False=True, False or True=True, not(True)=False\n",
    "\n",
    "#5:0, 10>5=True, 2<3=True, True and True=True, not(True)=False, int(False)=0"
   ]
  },
  {
   "cell_type": "markdown",
   "metadata": {},
   "source": [
    "## Question 6: Conditionals (5 pt)\n",
    " \n",
    "The following converts Celsius (C) to Farhenheit (F):\n",
    "\n",
    "$$F = (C * \\frac{9}{5}) + 32 $$\n",
    "\n",
    "You can convert Celsius (C) to Kelvin with the following (K).\n",
    "\n",
    "$$K = C - 273.15$$\n",
    "\n",
    "The lowest possible value in Celsius is -273.13, also known as absolute zero.\n",
    "\n",
    "Create a variable called `cel` set to be some number. It represents temperature in degrees Celsius. (1 pt)\n",
    "\n",
    "Create another variable called `convert`. Make it have either the value `'far'` or `'kel'`. (1 pt)\n",
    "\n",
    "Write code that does the following:\n",
    "\n",
    "If `cel` is below absolute zero, print out an error. Otherwise, convert the value in `cel` to Farhenheit if `convert` is `'far'` and to Kelvin if `convert` is `'kel'`. In both cases, print out the converted value. If `convert` has any other value, print a warning message saying that `convert` is not `'kel'` or `'far'`. (3 pt)"
   ]
  },
  {
   "cell_type": "code",
   "execution_count": 2,
   "metadata": {},
   "outputs": [
    {
     "name": "stdout",
     "output_type": "stream",
     "text": [
      "298.15\n"
     ]
    }
   ],
   "source": [
    "# your code here:\n",
    "cel=25\n",
    "convert='kel'\n",
    "if cel>=-273.15:\n",
    "    if convert=='kel' or 'far':\n",
    "        print(cel+273.15)\n",
    "    else:\n",
    "        print(\"convert is not kel or far\")\n",
    "else:\n",
    "    print(\"ERROR\")\n",
    "\n"
   ]
  }
 ],
 "metadata": {
  "kernelspec": {
   "display_name": "base",
   "language": "python",
   "name": "python3"
  },
  "language_info": {
   "codemirror_mode": {
    "name": "ipython",
    "version": 3
   },
   "file_extension": ".py",
   "mimetype": "text/x-python",
   "name": "python",
   "nbconvert_exporter": "python",
   "pygments_lexer": "ipython3",
   "version": "3.9.13"
  },
  "orig_nbformat": 4,
  "vscode": {
   "interpreter": {
    "hash": "4dfdf6d2e688df69fd7972489f121f0a08d5ac8ec64b5dc09f28fd479b443f4d"
   }
  }
 },
 "nbformat": 4,
 "nbformat_minor": 2
}
