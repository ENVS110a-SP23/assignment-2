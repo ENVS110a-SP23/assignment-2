{
 "cells": [
  {
   "cell_type": "markdown",
   "metadata": {},
   "source": [
    "# Assignment 2: Fundamentals of Python (30 pts)"
   ]
  },
  {
   "cell_type": "markdown",
   "metadata": {},
   "source": [
    "## Question 1: Markdown  (5 pts)\n",
    "\n",
    "Create a markdown cell below. Do the following tasks: \n",
    "\n",
    "- Display an image. (1 pt)\n",
    "- Write a caption for the image in italics. (1 pt)\n",
    "- Link a wikipedia page. (1 pt)\n",
    "- Write a bullet point list summarizing the page (don't be thorough, just want to see you make bullet points.) (1 pt)\n",
    "- Write an equation on its own line that includes a fraction and an exponent (e.g. 2 squared).\n"
   ]
  },
  {
   "attachments": {},
   "cell_type": "markdown",
   "metadata": {},
   "source": [
    "![An image](data:image/jpeg;base64,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)\n",
    "\n",
    "\n",
    "*A photo of a cat loaf*\n",
    "\n",
    "\n",
    "[Wikipedia link](https://en.wikipedia.org/wiki/Death_from_laughter)\n",
    "- list of people who have died from laughter \n",
    "- excessive laughter can cause cardiac arrest or asphyixation\n",
    "\n",
    "$\\frac{3}{10} + (2)^{3}$\n"
   ]
  },
  {
   "cell_type": "markdown",
   "metadata": {},
   "source": [
    "## Question 2: Data types and variables (5 pt)\n",
    "\n",
    "\n",
    "- Create 3 variables with the values of `9`, `9.9`, and `\"9\"` (1 pt).\n",
    "- Print out the data types of each variable (1 pt).\n",
    "- Convert the 3 variable types to the same data type and then add them together to get the following values:\n",
    "  - `27` (1 pt)\n",
    "  - `27.9` (1 pt)\n",
    "  - `999.9` (1 pt)\n"
   ]
  },
  {
   "cell_type": "code",
   "execution_count": 62,
   "metadata": {},
   "outputs": [
    {
     "name": "stdout",
     "output_type": "stream",
     "text": [
      "<class 'int'>\n",
      "<class 'float'>\n",
      "<class 'str'>\n",
      "27\n",
      "27.9\n",
      "999.9\n"
     ]
    }
   ],
   "source": [
    "# your answer here:\n",
    "\n",
    "x = 9\n",
    "y = 9.9\n",
    "z = \"9\"\n",
    "print(type(x))\n",
    "print(type(y))\n",
    "print(type(z))\n",
    "\n",
    "print(x +int(y) +int(z))\n",
    "print(float(x) + (y) + float(z))\n",
    "\n",
    "sum = 110 * x\n",
    "sum += y \n",
    "print(sum)   "
   ]
  },
  {
   "cell_type": "markdown",
   "metadata": {},
   "source": [
    "## Question 3: Data structures (5 pt)\n",
    "\n",
    "- Create a dictionary with 3 keys called `'a'`, `'b'`, and `'c'`. The value for each key should be a blank list. (1 pt)\n",
    "- Append the list associated with key `a` with a blank set. (1 pt)\n",
    "- Append the list associated with key `b` with any 4 numbers. (1 pt)\n",
    "- Change the third item in the list associated with key `b` to be `1000`. (1 pt)\n",
    "- Print out the dictionary (1 pt)"
   ]
  },
  {
   "cell_type": "code",
   "execution_count": 64,
   "metadata": {},
   "outputs": [
    {
     "name": "stdout",
     "output_type": "stream",
     "text": [
      "{'a': set(), 'b': [20, 40, 1000, 80], 'c': []}\n"
     ]
    }
   ],
   "source": [
    "# your code here:\n",
    "my_dict = {'a':[], 'b':[], 'c':[]}\n",
    "my_dict['a'] = set()\n",
    "my_dict['b'] = [20,40,60,80]\n",
    "my_dict['b'][2] = 1000\n",
    "print(my_dict)"
   ]
  },
  {
   "cell_type": "markdown",
   "metadata": {},
   "source": [
    "## Question 4: Transferring to different structure (5 pts)\n",
    "\n",
    "Some data was collected by 5 different researchers on deer population sizes. Below, this data was recorded with accompanying temperature data and dates in three lists. In each list, one researcher is associated with the same index.\n",
    "\n",
    "0. Haley McCann\n",
    "1. Siena Welch\n",
    "2. Jaylin Mercado\n",
    "3. Ismael Hayden\n",
    "4. Nina Bright\n",
    "\n",
    "Use the data across the three lists to create a dictionary storing each researcher's name and data as key:value pairs. Carefully consider how to best store the data as each value (4 pt).\n",
    "\n",
    "Retrieve the data from the lists using indexing; **do NOT** manually type the data into the dictionary. (1 pt)"
   ]
  },
  {
   "cell_type": "code",
   "execution_count": 55,
   "metadata": {},
   "outputs": [],
   "source": [
    "# don't modify the lists\n",
    "\n",
    "temperatures = [29.75, 12.63, 31.58, 7.16, 32.51]\n",
    "\n",
    "populations = [442, 336, 505, 913, 933]\n",
    "\n",
    "dates = ['5/25/2022','3/18/2022','6/28/2022','11/11/2022','7/6/2023']\n",
    "\n",
    "# your code below:\n"
   ]
  },
  {
   "cell_type": "code",
   "execution_count": 42,
   "metadata": {},
   "outputs": [
    {
     "name": "stdout",
     "output_type": "stream",
     "text": [
      "{'Haley McCann': {'temperatures': 29.75, 'populations': 442, 'dates': '5/25/2022'}, 'Siena Welch': {'temperatures': 12.63, 'populations': 336, 'dates': '3/18/2022'}, 'Jalyin Mercado': {'temperatures': 31.58, 'populations': 505, 'dates': '6/28/2022'}, 'Ismael Hayden': {'temperatures': 7.16, 'populations': 913, 'dates': '11/11/2022'}, 'Nina Bright': {'temperatures': 32.51, 'populations': 933, 'dates': '7/6/2023'}}\n"
     ]
    }
   ],
   "source": [
    "researcher_dict = {\n",
    "    'Haley McCann': {'temperatures':temperatures[0], 'populations':populations[0], 'dates':dates[0]}, \n",
    "    'Siena Welch': {'temperatures':temperatures[1], 'populations':populations[1], 'dates':dates[1]}, \n",
    "    'Jalyin Mercado': {'temperatures':temperatures[2],'populations':populations[2], 'dates':dates[2]}, \n",
    "    'Ismael Hayden': {'temperatures':temperatures[3], 'populations':populations[3], 'dates':dates[3]}, \n",
    "    'Nina Bright':  {'temperatures':temperatures[4], 'populations':populations[4],  'dates':dates[4]},      \n",
    "}\n",
    "print(researcher_dict)"
   ]
  },
  {
   "cell_type": "markdown",
   "metadata": {},
   "source": [
    "## Question 5: Booleans\n",
    "What is the value of each of the following statements? Explain why for each statement. (1 pt each)"
   ]
  },
  {
   "cell_type": "code",
   "execution_count": 43,
   "metadata": {},
   "outputs": [
    {
     "name": "stdout",
     "output_type": "stream",
     "text": [
      "False\n",
      "False\n",
      "True\n",
      "False\n",
      "0\n"
     ]
    }
   ],
   "source": [
    "#1\n",
    "a = True and False\n",
    "print(a)\n",
    "# False is the value of this statement \n",
    "# \"AND\" between two booleans will only make the statement true if both statements are true\n",
    "# If one statement is False, it causes the outpout to be false as well\n",
    "\n",
    "#2\n",
    "b = not True or False\n",
    "print(b)\n",
    "# Not True is equal to false bc \"not\" reverses the value (not True = False)\n",
    "# Since both are false, the final answer is False\n",
    "# \"Or\" would only make it True if both statements were the same\n",
    "\n",
    "#3\n",
    "c = True or False or True\n",
    "print(c)\n",
    "# The answer is True if one of the statements is true\n",
    "# \"Or\" only needs one of the statements to be True, works bc two True statements\n",
    "#True is the correct answer\n",
    "\n",
    "# 4\n",
    "d = not (not True or not False)\n",
    "print(d)\n",
    "# False\n",
    "# The \"not\" cancels out the True value and not False becomes True becomes (False or True)\n",
    "# The not outside the parentheses causes the True value inside to cancel out the True value\n",
    "\n",
    "# 5\n",
    "e = int( not(10 > 5 and 2 < 3) )\n",
    "print(e)\n",
    "# The value is 0 \n",
    "# The 10 > 5 and 2 < 3 statements are True\n",
    "# Because not is outside the parentheses, it turns the statement False\n",
    "# the \"int\" at the beginning is applied to the \"not\" statement\n",
    "# It causes False to equal to 0, while True is equal to 1\n",
    "# Because of the not, the final answer is 0\n",
    "\n",
    " "
   ]
  },
  {
   "cell_type": "markdown",
   "metadata": {},
   "source": [
    "### Answers:"
   ]
  },
  {
   "cell_type": "markdown",
   "metadata": {},
   "source": [
    "## Question 6: Conditionals (5 pt)\n",
    " \n",
    "The following converts Celsius (C) to Farhenheit (F):\n",
    "\n",
    "$$F = (C * \\frac{9}{5}) + 32 $$\n",
    "\n",
    "You can convert Celsius (C) to Kelvin with the following (K).\n",
    "\n",
    "$$K = C - 273.15$$\n",
    "\n",
    "The lowest possible value in Celsius is -273.13, also known as absolute zero.\n",
    "\n",
    "Create a variable called `cel` set to be some number. It represents temperature in degrees Celsius. (1 pt)\n",
    "\n",
    "Create another variable called `convert`. Make it have either the value `'far'` or `'kel'`. (1 pt)\n",
    "\n",
    "Write code that does the following:\n",
    "\n",
    "If `cel` is below absolute zero, print out an error. Otherwise, convert the value in `cel` to Farhenheit if `convert` is `'far'` and to Kelvin if `convert` is `'kel'`. In both cases, print out the converted value. If `convert` has any other value, print a warning message saying that `convert` is not `'kel'` or `'far'`. (3 pt)"
   ]
  },
  {
   "cell_type": "code",
   "execution_count": 61,
   "metadata": {},
   "outputs": [
    {
     "name": "stdout",
     "output_type": "stream",
     "text": [
      "30\n"
     ]
    }
   ],
   "source": [
    "'# your code here:'\n",
    "\n",
    "cel = 40\n",
    "convert = 'far'\n",
    "\n",
    "if cel < -273.15:\n",
    "    print('Error') \n",
    "    \n",
    "elif convert == 'far':\n",
    "        fahr = (cel * 9/5) + 32\n",
    "        print(kel)       \n",
    "else:\n",
    "    print(\"Warning, convert is not 'kel' or 'far\")\n",
    "                 "
   ]
  }
 ],
 "metadata": {
  "kernelspec": {
   "display_name": "Python 3",
   "language": "python",
   "name": "python3"
  },
  "language_info": {
   "codemirror_mode": {
    "name": "ipython",
    "version": 3
   },
   "file_extension": ".py",
   "mimetype": "text/x-python",
   "name": "python",
   "nbconvert_exporter": "python",
   "pygments_lexer": "ipython3",
   "version": "3.9.6"
  },
  "orig_nbformat": 4,
  "vscode": {
   "interpreter": {
    "hash": "31f2aee4e71d21fbe5cf8b01ff0e069b9275f58929596ceb00d14d90e3e16cd6"
   }
  }
 },
 "nbformat": 4,
 "nbformat_minor": 2
}
