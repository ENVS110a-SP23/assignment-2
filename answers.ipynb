{
 "cells": [
  {
   "cell_type": "markdown",
   "metadata": {},
   "source": [
    "# Assignment 2: Fundamentals of Python (30 pts)"
   ]
  },
  {
   "cell_type": "markdown",
   "metadata": {},
   "source": [
    "## Question 1: Markdown  (5 pts)\n",
    "\n",
    "Create a markdown cell below. Do the following tasks: \n",
    "\n",
    "- Display an image. (1 pt)\n",
    "- Write a caption for the image in italics. (1 pt)\n",
    "- Link a wikipedia page. (1 pt)\n",
    "- Write a bullet point list summarizing the page (don't be thorough, just want to see you make bullet points.) (1 pt)\n",
    "- Write an equation on its own line that includes a fraction and an exponent (e.g. 2 squared).\n"
   ]
  },
  {
   "attachments": {},
   "cell_type": "markdown",
   "metadata": {},
   "source": [
    "![An image](https://octodex.github.com/images/manufacturetocat.png)\n",
    "\n",
    "*This is an image from GitHub*\n",
    "\n",
    "[Link to Wikipedia page](https://en.wikipedia.org/wiki/Markovnikov%27s_rule)\n",
    "\n",
    "- This is a Wikipedia page\n",
    "- that describes Markovnikov's rule\n",
    "- which is a rule in chemical mechanisms\n",
    "- that specifies that an addition to a molecule\n",
    "- happens at the more substituted carbon.\n",
    "\n",
    "$$x^2 + 3 = \\frac{3}{4}$$\n"
   ]
  },
  {
   "cell_type": "markdown",
   "metadata": {},
   "source": [
    "## Question 2: Data types and variables (5 pt)\n",
    "\n",
    "\n",
    "- Create 3 variables with the values of `9`, `9.9`, and `\"9\"` (1 pt).\n",
    "- Print out the data types of each variable (1 pt).\n",
    "- Convert the 3 variable types to the same data type and then add them together to get the following values:\n",
    "  - `27` (1 pt)\n",
    "  - `27.9` (1 pt)\n",
    "  - `999.9` (1 pt)\n"
   ]
  },
  {
   "cell_type": "code",
   "execution_count": 39,
   "metadata": {},
   "outputs": [
    {
     "name": "stdout",
     "output_type": "stream",
     "text": [
      "<class 'int'>\n",
      "<class 'float'>\n",
      "<class 'str'>\n",
      "27.0\n",
      "27.9\n",
      "999.9\n"
     ]
    }
   ],
   "source": [
    "# your answer here:\n",
    "#creating the variables\n",
    "x = 9\n",
    "y = 9.9\n",
    "z = \"9\"\n",
    "#printing out the data type\n",
    "print(type(x))\n",
    "print(type(y))\n",
    "print(type(z))\n",
    "#changing data type and adding them together\n",
    "print(x + int(z) + y//1)\n",
    "print(x + int(z) + y)\n",
    "print(z + str(x) + str(y))"
   ]
  },
  {
   "cell_type": "markdown",
   "metadata": {},
   "source": [
    "## Question 3: Data structures (5 pt)\n",
    "\n",
    "- Create a dictionary with 3 keys called `'a'`, `'b'`, and `'c'`. The value for each key should be a blank list. (1 pt)\n",
    "- Append the list associated with key `a` with a blank set. (1 pt)\n",
    "- Append the list associated with key `b` with any 4 numbers. (1 pt)\n",
    "- Change the third item in the list associated with key `b` to be `1000`. (1 pt)\n",
    "- Print out the dictionary (1 pt)"
   ]
  },
  {
   "cell_type": "code",
   "execution_count": 31,
   "metadata": {},
   "outputs": [
    {
     "name": "stdout",
     "output_type": "stream",
     "text": [
      "{'a': [set()], 'b': [1, 2, 1000, 4], 'c': []}\n"
     ]
    }
   ],
   "source": [
    "# your code here:\n",
    "#creating dictionary\n",
    "dict1 = {\"a\": [], \"b\": [], \"c\": []}\n",
    "#appending set to key a\n",
    "dict1[\"a\"].append(set())\n",
    "#appending numbers to key b\n",
    "dict1[\"b\"].append(1)\n",
    "dict1[\"b\"].append(2)\n",
    "dict1[\"b\"].append(3)\n",
    "dict1[\"b\"].append(4)\n",
    "#changing the third item in the list associated with key b\n",
    "dict1[\"b\"][2] = 1000\n",
    "#printing dictionary \n",
    "print(dict1)"
   ]
  },
  {
   "cell_type": "markdown",
   "metadata": {},
   "source": [
    "## Question 4: Transferring to different structure (5 pts)\n",
    "\n",
    "Some data was collected by 5 different researchers on deer population sizes. Below, this data was recorded with accompanying temperature data and dates in three lists. In each list, one researcher is associated with the same index.\n",
    "\n",
    "0. Haley McCann\n",
    "1. Siena Welch\n",
    "2. Jaylin Mercado\n",
    "3. Ismael Hayden\n",
    "4. Nina Bright\n",
    "\n",
    "Use the data across the three lists to create a dictionary storing each researcher's name and data as key:value pairs. Carefully consider how to best store the data as each value (4 pt).\n",
    "\n",
    "Retrieve the data from the lists using indexing; **do NOT** manually type the data into the dictionary. (1 pt)"
   ]
  },
  {
   "cell_type": "code",
   "execution_count": 30,
   "metadata": {},
   "outputs": [],
   "source": [
    "# don't modify the lists\n",
    "\n",
    "temperatures = [29.75, 12.63, 31.58, 7.16, 32.51]\n",
    "\n",
    "populations = [442, 336, 505, 913, 933]\n",
    "\n",
    "dates = ['5/25/2022','3/18/2022','6/28/2022','11/11/2022','7/6/2023']\n",
    "\n",
    "# your code below:\n",
    "dict2 = {\n",
    "    \"Haley McCann\": [temperatures[0], populations[0], dates[0]], \n",
    "    \"Siena Welch\": [temperatures[1], populations[1], dates[1]],\n",
    "    \"Jaylin Mercado\": [temperatures[2], populations[2], dates[2]],\n",
    "    \"Ismael Hayden\": [temperatures[3], populations[3], dates[3]],\n",
    "    \"Nina Bright\": [temperatures[4], populations[4], dates[4]]\n",
    "    }\n",
    "\n"
   ]
  },
  {
   "cell_type": "markdown",
   "metadata": {},
   "source": [
    "## Question 5: Booleans\n",
    "What is the value of each of the following statements? Explain why for each statement. (1 pt each)"
   ]
  },
  {
   "cell_type": "code",
   "execution_count": 32,
   "metadata": {},
   "outputs": [
    {
     "data": {
      "text/plain": [
       "0"
      ]
     },
     "execution_count": 32,
     "metadata": {},
     "output_type": "execute_result"
    }
   ],
   "source": [
    "# 1\n",
    "True and False\n",
    "#False because when you use \"and\" only one item has to be False for the entire statement to be False\n",
    "\n",
    "# 2\n",
    "not True or False\n",
    "#False because \"not True\" and \"False\" are both False\n",
    "\n",
    "# 3\n",
    "True or False or True\n",
    "#True because when you use \"or\", only one item has to be True for the entire statement to be True\n",
    "\n",
    "# 4\n",
    "not (not True or not False)\n",
    "#False, because the value of the statement inside the parentheses is True, and \"not\" signifies the opposite\n",
    "\n",
    "# 5\n",
    "int( not(10 > 5 and 2 < 3) )\n",
    "#0, because the value inside the innermost parentheses is True, then the use of \"not\" makes the value\n",
    "#within the outer parentheses False, and when False is converted into an integer, the output is\n",
    "\n"
   ]
  },
  {
   "cell_type": "markdown",
   "metadata": {},
   "source": [
    "### Answers:"
   ]
  },
  {
   "cell_type": "markdown",
   "metadata": {},
   "source": [
    "## Question 6: Conditionals (5 pt)\n",
    " \n",
    "The following converts Celsius (C) to Farhenheit (F):\n",
    "\n",
    "$$F = (C * \\frac{9}{5}) + 32 $$\n",
    "\n",
    "You can convert Celsius (C) to Kelvin with the following (K).\n",
    "\n",
    "$$K = C - 273.15$$\n",
    "\n",
    "The lowest possible value in Celsius is -273.13, also known as absolute zero.\n",
    "\n",
    "Create a variable called `cel` set to be some number. It represents temperature in degrees Celsius. (1 pt)\n",
    "\n",
    "Create another variable called `convert`. Make it have either the value `'far'` or `'kel'`. (1 pt)\n",
    "\n",
    "Write code that does the following:\n",
    "\n",
    "If `cel` is below absolute zero, print out an error. Otherwise, convert the value in `cel` to Farhenheit if `convert` is `'far'` and to Kelvin if `convert` is `'kel'`. In both cases, print out the converted value. If `convert` has any other value, print a warning message saying that `convert` is not `'kel'` or `'far'`. (3 pt)"
   ]
  },
  {
   "cell_type": "code",
   "execution_count": 1,
   "metadata": {},
   "outputs": [
    {
     "name": "stdout",
     "output_type": "stream",
     "text": [
      "293.15\n"
     ]
    }
   ],
   "source": [
    "# your code here:\n",
    "#creating variable cel\n",
    "cel = 20\n",
    "#creating variable convert \n",
    "convert = \"kel\"\n",
    "#if/else statement to convert cel to Kelvin\n",
    "if cel < -273.13:\n",
    "    print(\"Error. Value is outside of the possible range.\")\n",
    "elif convert == \"kel\":\n",
    "    kel = cel + 273.15\n",
    "    print(kel)\n",
    "elif convert == \"far\":\n",
    "    far = ((cel*(9/5)) + 32)\n",
    "    print(far)"
   ]
  }
 ],
 "metadata": {
  "kernelspec": {
   "display_name": "base",
   "language": "python",
   "name": "python3"
  },
  "language_info": {
   "codemirror_mode": {
    "name": "ipython",
    "version": 3
   },
   "file_extension": ".py",
   "mimetype": "text/x-python",
   "name": "python",
   "nbconvert_exporter": "python",
   "pygments_lexer": "ipython3",
   "version": "3.9.12"
  },
  "orig_nbformat": 4,
  "vscode": {
   "interpreter": {
    "hash": "082ab05089925d2509eefa3491c27cfab625ba6b4cabe40da711993ae84870eb"
   }
  }
 },
 "nbformat": 4,
 "nbformat_minor": 2
}
