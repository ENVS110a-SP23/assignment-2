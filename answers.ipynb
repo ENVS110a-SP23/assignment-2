{
 "cells": [
  {
   "cell_type": "markdown",
   "metadata": {},
   "source": [
    "# Assignment 2: Fundamentals of Python (30 pts)"
   ]
  },
  {
   "cell_type": "markdown",
   "metadata": {},
   "source": [
    "## Question 1: Markdown  (5 pts)\n",
    "\n",
    "Create a markdown cell below. Do the following tasks: \n",
    "\n",
    "- Display an image. (1 pt)\n",
    "- Write a caption for the image in italics. (1 pt)\n",
    "- Link a wikipedia page. (1 pt)\n",
    "- Write a bullet point list summarizing the page (don't be thorough, just want to see you make bullet points.) (1 pt)\n",
    "- Write an equation on its own line that includes a fraction and an exponent (e.g. 2 squared).\n"
   ]
  },
  {
   "attachments": {},
   "cell_type": "markdown",
   "metadata": {},
   "source": [
    "<!-- display image -->\n",
    "![An image](BrandeisLogo.png \"Brandeis Logo\")<br>\n",
    "*This is the Brandeis Logo*<br>\n",
    "[A link](https://en.wikipedia.org/wiki/American_football)\n",
    "\n",
    "- Number 1 \n",
    "- Number 2\n",
    "- Number 3 \n",
    "\n",
    "\n",
    "$$ \\frac{2}{5} = x^2 $$\n",
    "\n"
   ]
  },
  {
   "cell_type": "markdown",
   "metadata": {},
   "source": [
    "## Question 2: Data types and variables (5 pt)\n",
    "\n",
    "\n",
    "- Create 3 variables with the values of `9`, `9.9`, and `\"9\"` (1 pt).\n",
    "- Print out the data types of each variable (1 pt).\n",
    "- Convert the 3 variable types to the same data type and then add them together to get the following values:\n",
    "  - `27` (1 pt)\n",
    "  - `27.9` (1 pt)\n",
    "  - `999.9` (1 pt)\n"
   ]
  },
  {
   "cell_type": "code",
   "execution_count": 1,
   "metadata": {},
   "outputs": [
    {
     "name": "stdout",
     "output_type": "stream",
     "text": [
      "<class 'int'> <class 'float'> <class 'str'>\n",
      "27\n",
      "27.9\n",
      "999.9\n"
     ]
    }
   ],
   "source": [
    "# your answer here:\n",
    "a = 9\n",
    "b = 9.9\n",
    "c = \"9\"\n",
    "\n",
    "print(type(a), type(b), type(c))\n",
    "\n",
    "a = float(a)\n",
    "b = float(b)\n",
    "c = float(c)\n",
    "\n",
    "print(int(a + b + c))\n",
    "print(a + b + c)\n",
    "print(str(int(a)) + str(int(c)) + str(b))\n"
   ]
  },
  {
   "cell_type": "markdown",
   "metadata": {},
   "source": [
    "## Question 3: Data structures (5 pt)\n",
    "\n",
    "- Create a dictionary with 3 keys called `'a'`, `'b'`, and `'c'`. The value for each key should be a blank list. (1 pt)\n",
    "- Append the list associated with key `a` with a blank set. (1 pt)\n",
    "- Append the list associated with key `b` with any 4 numbers. (1 pt)\n",
    "- Change the third item in the list associated with key `b` to be `1000`. (1 pt)\n",
    "- Print out the dictionary (1 pt)"
   ]
  },
  {
   "cell_type": "code",
   "execution_count": 1,
   "metadata": {},
   "outputs": [
    {
     "data": {
      "text/plain": [
       "{'a': [set()], 'b': [1, 2, 1000, 4], 'c': []}"
      ]
     },
     "execution_count": 1,
     "metadata": {},
     "output_type": "execute_result"
    }
   ],
   "source": [
    "# your code here:\n",
    "dic = {\"a\": [], \"b\": [], \"c\": []}\n",
    "dic[\"a\"].append(set())\n",
    "for i in range(1, 5):\n",
    "    dic['b'].append(i)\n",
    "dic[\"b\"][2] = 1000\n",
    "\n",
    "dic"
   ]
  },
  {
   "cell_type": "markdown",
   "metadata": {},
   "source": [
    "## Question 4: Transferring to different structure (5 pts)\n",
    "\n",
    "Some data was collected by 5 different researchers on deer population sizes. Below, this data was recorded with accompanying temperature data and dates in three lists. In each list, one researcher is associated with the same index.\n",
    "\n",
    "0. Haley McCann\n",
    "1. Siena Welch\n",
    "2. Jaylin Mercado\n",
    "3. Ismael Hayden\n",
    "4. Nina Bright\n",
    "\n",
    "Use the data across the three lists to create a dictionary storing each researcher's name and data as key:value pairs. Carefully consider how to best store the data as each value (4 pt).\n",
    "\n",
    "Retrieve the data from the lists using indexing; **do NOT** manually type the data into the dictionary. (1 pt)"
   ]
  },
  {
   "cell_type": "code",
   "execution_count": 2,
   "metadata": {},
   "outputs": [
    {
     "data": {
      "text/plain": [
       "{'Haley McCann': ['5/25/2022', 29.75, 442],\n",
       " 'Siena Welch': ['3/18/2022', 12.63, 336],\n",
       " 'Jaylin Mercado': ['6/28/2022', 31.58, 505],\n",
       " 'Ismael Hayden': ['11/11/2022', 7.16, 913],\n",
       " 'Nina Bright': ['7/6/2023', 32.51, 933]}"
      ]
     },
     "execution_count": 2,
     "metadata": {},
     "output_type": "execute_result"
    }
   ],
   "source": [
    "# don't modify the lists\n",
    "\n",
    "temperatures = [29.75, 12.63, 31.58, 7.16, 32.51]\n",
    "\n",
    "populations = [442, 336, 505, 913, 933]\n",
    "\n",
    "dates = ['5/25/2022','3/18/2022','6/28/2022','11/11/2022','7/6/2023']\n",
    "\n",
    "# your code below:\n",
    "\n",
    "researchers = [\"Haley McCann\", \"Siena Welch\", \"Jaylin Mercado\", \"Ismael Hayden\", \"Nina Bright\"]\n",
    "\n",
    "dic = {}\n",
    "\n",
    "for i in range(len(temperatures)):\n",
    "\tdic[researchers[i]] = [ dates[i], temperatures[i], populations[i]]\n",
    "\n",
    "dic"
   ]
  },
  {
   "cell_type": "markdown",
   "metadata": {},
   "source": [
    "## Question 5: Booleans\n",
    "What is the value of each of the following statements? Explain why for each statement. (1 pt each)"
   ]
  },
  {
   "cell_type": "code",
   "execution_count": 4,
   "metadata": {},
   "outputs": [
    {
     "data": {
      "text/plain": [
       "0"
      ]
     },
     "execution_count": 4,
     "metadata": {},
     "output_type": "execute_result"
    }
   ],
   "source": [
    "# 1\n",
    "True and False\n",
    "\n",
    "# 2\n",
    "not True or False\n",
    "\n",
    "\n",
    "# 3\n",
    "True or False or True\n",
    "\n",
    "\n",
    "# 4\n",
    "not (not True or not False)\n",
    "\n",
    "\n",
    "# 5\n",
    "int( not(10 > 5 and 2 < 3) )"
   ]
  },
  {
   "cell_type": "markdown",
   "metadata": {},
   "source": [
    "### Answers:"
   ]
  },
  {
   "cell_type": "code",
   "execution_count": 5,
   "metadata": {},
   "outputs": [],
   "source": [
    "# 1\n",
    "# False because you need both to be true to return true\n",
    "\n",
    "# 2\n",
    "# False because if one is true it will return true, but because of the not, it will return false\n",
    "\n",
    "# 3\n",
    "# True because one is true, so it will return true\n",
    "\n",
    "# 4\n",
    "# False the booleans within the parentheses are true, but because of the not, it will return false\n",
    "\n",
    "# 5\n",
    "# 0 because the booleans within the parentheses are true, but because of the not, it will return false, \n",
    "# and then because of the int, it will return 0 to represent false\n"
   ]
  },
  {
   "cell_type": "markdown",
   "metadata": {},
   "source": [
    "## Question 6: Conditionals (5 pt)\n",
    " \n",
    "The following converts Celsius (C) to Farhenheit (F):\n",
    "\n",
    "$$F = (C * \\frac{9}{5}) + 32 $$\n",
    "\n",
    "You can convert Celsius (C) to Kelvin with the following (K).\n",
    "\n",
    "$$K = C - 273.15$$\n",
    "\n",
    "The lowest possible value in Celsius is -273.13, also known as absolute zero.\n",
    "\n",
    "Create a variable called `cel` set to be some number. It represents temperature in degrees Celsius. (1 pt)\n",
    "\n",
    "Create another variable called `convert`. Make it have either the value `'far'` or `'kel'`. (1 pt)\n",
    "\n",
    "Write code that does the following:\n",
    "\n",
    "If `cel` is below absolute zero, print out an error. Otherwise, convert the value in `cel` to Farhenheit if `convert` is `'far'` and to Kelvin if `convert` is `'kel'`. In both cases, print out the converted value. If `convert` has any other value, print a warning message saying that `convert` is not `'kel'` or `'far'`. (3 pt)"
   ]
  },
  {
   "cell_type": "code",
   "execution_count": 6,
   "metadata": {},
   "outputs": [
    {
     "name": "stdout",
     "output_type": "stream",
     "text": [
      "73.4°F\n"
     ]
    }
   ],
   "source": [
    "# your code here:\n",
    "\n",
    "cel = 23\n",
    "convert = 'far'\n",
    "if cel < -273.13:\n",
    "\tprint(\"Shouldn't be below absolute zero\")\n",
    "else:\n",
    "\tif convert == 'far':\n",
    "\t\tprint(str(cel * 9/5 + 32) + \"°F\")\n",
    "\telif convert == 'kel':\n",
    "\t\tprint(str(cel - 273.15)+ \"°K\")\n",
    "\telse:\n",
    "\t\tprint(\"Not a valid conversion\")"
   ]
  }
 ],
 "metadata": {
  "kernelspec": {
   "display_name": "base",
   "language": "python",
   "name": "python3"
  },
  "language_info": {
   "codemirror_mode": {
    "name": "ipython",
    "version": 3
   },
   "file_extension": ".py",
   "mimetype": "text/x-python",
   "name": "python",
   "nbconvert_exporter": "python",
   "pygments_lexer": "ipython3",
   "version": "3.8.8"
  },
  "orig_nbformat": 4,
  "vscode": {
   "interpreter": {
    "hash": "aeb28c4d5a5e865c72a04a8aef451d60398febc53d89167361f3fe3f14e31ad1"
   }
  }
 },
 "nbformat": 4,
 "nbformat_minor": 2
}
