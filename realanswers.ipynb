{
 "cells": [
  {
   "attachments": {},
   "cell_type": "markdown",
   "metadata": {},
   "source": [
    "## Question 1: Markdown  (5 pts)\n",
    "\n",
    "Create a markdown cell below. Do the following tasks: \n",
    "\n",
    "- Display an image. (1 pt)\n",
    "- Write a caption for the image in italics. (1 pt)\n",
    "- Link a wikipedia page. (1 pt)\n",
    "- Write a bullet point list summarizing the page (don't be thorough, just want to see you make bullet points.) (1 pt)\n",
    "- Write an equation on its own line that includes a fraction and an exponent (e.g. 2 squared)."
   ]
  },
  {
   "attachments": {},
   "cell_type": "markdown",
   "metadata": {},
   "source": [
    "![an image](https://www.brandeisjudges.com/sports/mtrack/2022-23/photos/0001/hs_taylor_diamond.jpg?max_width=300)\n",
    "\n",
    "*A very nice mustache, Rollie Fingers Style*\n",
    "\n",
    "\n",
    "[Rollie Fingers](https://en.wikipedia.org/wiki/Rollie_Fingers)\n",
    "- Rollie Fingers was an American baseball player\n",
    "- He played for the Oakland A's and helped redefine the value of relief pitchers within baseball\n",
    "- He was part of the \"Mustache Gang\" that led Oakland to three consecutive world series titles\n",
    "\n",
    "\n"
   ]
  },
  {
   "attachments": {},
   "cell_type": "markdown",
   "metadata": {},
   "source": [
    "$ 10^2 + \\frac{1}{2} = 100.5 $"
   ]
  },
  {
   "attachments": {},
   "cell_type": "markdown",
   "metadata": {},
   "source": [
    "## Question 2: Data types and variables (5 pt)\n",
    "\n",
    "\n",
    "- Create 3 variables with the values of `9`, `9.9`, and `\"9\"` (1 pt).\n",
    "- Print out the data types of each variable (1 pt).\n",
    "- Convert the 3 variable types to the same data type and then add them together to get the following values:\n",
    "  - `27` (1 pt)\n",
    "  - `27.9` (1 pt)\n",
    "  - `999.9` (1 pt)"
   ]
  },
  {
   "cell_type": "code",
   "execution_count": 31,
   "metadata": {},
   "outputs": [
    {
     "name": "stdout",
     "output_type": "stream",
     "text": [
      "<class 'int'> <class 'float'> <class 'str'>\n",
      "\n",
      "27\n",
      "27.9\n",
      "999.9\n"
     ]
    }
   ],
   "source": [
    "x = 9\n",
    "\n",
    "y = 9.9\n",
    "\n",
    "z = '9'\n",
    "\n",
    "print(type(x), type(y), type(z))\n",
    "print()\n",
    "\n",
    "ans1 = x + int(y) + int(z)\n",
    "\n",
    "ans2 = float(x) + y + float(z)\n",
    "\n",
    "ans3 = str(x) + z + str(y)\n",
    "\n",
    "print(ans1)\n",
    "print(ans2)\n",
    "print(ans3)\n"
   ]
  },
  {
   "attachments": {},
   "cell_type": "markdown",
   "metadata": {},
   "source": [
    "## Question 3: Data structures (5 pt)\n",
    "\n",
    "- Create a dictionary with 3 keys called `'a'`, `'b'`, and `'c'`. The value for each key should be a blank list. (1 pt)\n",
    "- Append the list associated with key `a` with a blank set. (1 pt)\n",
    "- Append the list associated with key `b` with any 4 numbers. (1 pt)\n",
    "- Change the third item in the list associated with key `b` to be `1000`. (1 pt)\n",
    "- Print out the dictionary (1 pt)"
   ]
  },
  {
   "cell_type": "code",
   "execution_count": 32,
   "metadata": {},
   "outputs": [
    {
     "data": {
      "text/plain": [
       "{'a': [{}], 'b': [1, 2, 1000, 4], 'c': []}"
      ]
     },
     "execution_count": 32,
     "metadata": {},
     "output_type": "execute_result"
    }
   ],
   "source": [
    "# your code here:\n",
    "\n",
    "dictionary = {'a':[],'b':[],'c':[]}\n",
    "\n",
    "dictionary['a'].append({})\n",
    "\n",
    "dictionary['b'].append(1)\n",
    "dictionary['b'].append(2)\n",
    "dictionary['b'].append(3)\n",
    "dictionary['b'].append(4)\n",
    "\n",
    "dictionary['b'][2] = 1000\n",
    "\n",
    "dictionary"
   ]
  },
  {
   "attachments": {},
   "cell_type": "markdown",
   "metadata": {},
   "source": [
    "## Question 4: Transferring to different structure (5 pts)\n",
    "\n",
    "Some data was collected by 5 different researchers on deer population sizes. Below, this data was recorded with accompanying temperature data and dates in three lists. In each list, one researcher is associated with the same index.\n",
    "\n",
    "0. Haley McCann\n",
    "1. Siena Welch\n",
    "2. Jaylin Mercado\n",
    "3. Ismael Hayden\n",
    "4. Nina Bright\n",
    "\n",
    "Use the data across the three lists to create a dictionary storing each researcher's name and data as key:value pairs. Carefully consider how to best store the data as each value (4 pt).\n",
    "\n",
    "Retrieve the data from the lists using indexing; **do NOT** manually type the data into the dictionary. (1 pt)"
   ]
  },
  {
   "cell_type": "code",
   "execution_count": 33,
   "metadata": {},
   "outputs": [
    {
     "data": {
      "text/plain": [
       "{'Haley McCann': [29.75, 442, '5/25/2022'],\n",
       " 'Siena Welch': [12.63, 336, '3/18/2022'],\n",
       " 'Jaylin Mercado': [31.58, 505, '6/28/2022'],\n",
       " 'Ismael Hayden': [7.16, 913, '11/11/2022'],\n",
       " 'Nina Bright': [32.51, 933, '7/6/2023']}"
      ]
     },
     "execution_count": 33,
     "metadata": {},
     "output_type": "execute_result"
    }
   ],
   "source": [
    "# don't modify the lists\n",
    "\n",
    "temperatures = [29.75, 12.63, 31.58, 7.16, 32.51]\n",
    "\n",
    "populations = [442, 336, 505, 913, 933]\n",
    "\n",
    "dates = ['5/25/2022','3/18/2022','6/28/2022','11/11/2022','7/6/2023']\n",
    "\n",
    "# your code below:\n",
    "\n",
    "researchers = {\n",
    "    'Haley McCann': [temperatures[0], populations[0], dates[0]],\n",
    "    'Siena Welch': [temperatures[1], populations[1], dates[1]],\n",
    "    'Jaylin Mercado': [temperatures[2], populations[2], dates[2]],\n",
    "    'Ismael Hayden': [temperatures[3], populations[3], dates[3]],\n",
    "    'Nina Bright': [temperatures[4], populations[4], dates[4]]\n",
    "    }\n",
    "\n",
    "researchers\n"
   ]
  },
  {
   "attachments": {},
   "cell_type": "markdown",
   "metadata": {},
   "source": [
    "## Question 5: Booleans\n",
    "What is the value of each of the following statements? Explain why for each statement. (1 pt each)"
   ]
  },
  {
   "cell_type": "code",
   "execution_count": 34,
   "metadata": {},
   "outputs": [
    {
     "data": {
      "text/plain": [
       "0"
      ]
     },
     "execution_count": 34,
     "metadata": {},
     "output_type": "execute_result"
    }
   ],
   "source": [
    "# 1\n",
    "True and False\n",
    "\n",
    "#This would be false. Putting \"and\" between two booleans would be true only if both were true, \n",
    "# so because one is \"False\" then the overall value is false.\n",
    "\n",
    "# 2\n",
    "not True or False\n",
    "\n",
    "#This would be false. Same reason as above, both booleans need to be true in order for the value to be true.\n",
    "\n",
    "# 3\n",
    "True or False or True\n",
    "\n",
    "#This would be true. Putting an \"or\" between two booleans only requires one of them to be true for the value to be true\n",
    "\n",
    "# 4\n",
    "not (not True or not False)\n",
    "\n",
    "#This would be false. The \"not\" modifier makes the value of the boolean the opposite of what it is. \n",
    "#The value of the statement in parenthesis is true, because not True = False, and not False = true, and they are connected by \"or\", \n",
    "# so because one of the booleans is true then the statement is true. \n",
    "# However, the \"not\" outside of the parenthesis makes the entire statement the opposite value, which is false.\n",
    "\n",
    "# 5\n",
    "int( not(10 > 5 and 2 < 3) )\n",
    "\n",
    "#The value would be zero (0). This is because when a boolean is converted to an integer, if it is true it will equal 1 and if it is false it will equal 0.\n",
    "#The expression in the parenthesis is True (10 is greater than 5 and 2 is less than 3), however it is modified by the \"not\" to be false.\n",
    "#Therefore, when this statement is expressed as an integer it is equal to 0."
   ]
  },
  {
   "attachments": {},
   "cell_type": "markdown",
   "metadata": {},
   "source": [
    "## Question 6: Conditionals (5 pt)\n",
    " \n",
    "The following converts Celsius (C) to Farhenheit (F):\n",
    "\n",
    "$$F = (C * \\frac{9}{5}) + 32 $$\n",
    "\n",
    "You can convert Celsius (C) to Kelvin with the following (K).\n",
    "\n",
    "$$K = C + 273.15$$\n",
    "\n",
    "The lowest possible value in Celsius is -273.13, also known as absolute zero.\n",
    "\n",
    "Create a variable called `cel` set to be some number. It represents temperature in degrees Celsius. (1 pt)\n",
    "\n",
    "Create another variable called `convert`. Make it have either the value `'far'` or `'kel'`. (1 pt)\n",
    "\n",
    "Write code that does the following:\n",
    "\n",
    "If `cel` is below absolute zero, print out an error. Otherwise, convert the value in `cel` to Farhenheit if `convert` is `'far'` and to Kelvin if `convert` is `'kel'`. In both cases, print out the converted value. If `convert` has any other value, print a warning message saying that `convert` is not `'kel'` or `'far'`. (3 pt)"
   ]
  },
  {
   "cell_type": "code",
   "execution_count": 35,
   "metadata": {},
   "outputs": [
    {
     "name": "stdout",
     "output_type": "stream",
     "text": [
      "The temperature in kelvin is 0.0 degrees\n"
     ]
    }
   ],
   "source": [
    "# your code here:\n",
    "\n",
    "\n",
    "cel = -273.15\n",
    "\n",
    "convert = 'kel'\n",
    "\n",
    "if cel >= -273.15:\n",
    "    if convert == 'far':\n",
    "        cel = (cel*(9/5)) + 32\n",
    "        print('The temperature in farenheit is', cel, 'degrees')\n",
    "    elif convert == 'kel':\n",
    "        cel = (cel + 273.15)\n",
    "        print('The temperature in kelvin is',cel,'degrees')\n",
    "    else:\n",
    "        print('Warning: Convert is not \"kel\" or \"far\"')\n",
    "else:\n",
    "    print('Error: Celsius temperature is below absolute zero and cannot be converted')"
   ]
  }
 ],
 "metadata": {
  "kernelspec": {
   "display_name": "base",
   "language": "python",
   "name": "python3"
  },
  "language_info": {
   "codemirror_mode": {
    "name": "ipython",
    "version": 3
   },
   "file_extension": ".py",
   "mimetype": "text/x-python",
   "name": "python",
   "nbconvert_exporter": "python",
   "pygments_lexer": "ipython3",
   "version": "3.9.13"
  },
  "orig_nbformat": 4
 },
 "nbformat": 4,
 "nbformat_minor": 2
}
